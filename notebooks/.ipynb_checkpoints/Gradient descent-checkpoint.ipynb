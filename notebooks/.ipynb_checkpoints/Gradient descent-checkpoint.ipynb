{
 "cells": [
  {
   "cell_type": "code",
   "execution_count": 11,
   "id": "c63730c6",
   "metadata": {
    "scrolled": false
   },
   "outputs": [],
   "source": [
    "import numpy as np"
   ]
  },
  {
   "cell_type": "code",
   "execution_count": 6,
   "id": "11cbf874",
   "metadata": {},
   "outputs": [],
   "source": [
    "bold = np.loadtxt('../data/50003_timeseries.txt')\n",
    "bold_bin = np.zeros(bold.shape)\n",
    "n_rois = bold_bin.shape[1]\n",
    "n_timesteps = bold_bin.shape[0]"
   ]
  },
  {
   "cell_type": "code",
   "execution_count": 4,
   "id": "d8882b81",
   "metadata": {},
   "outputs": [],
   "source": [
    "# globals\n",
    "state = np.zeros((n_rois,))\n",
    "def loss():\n",
    "    \n",
    "def gradient():\n",
    "    "
   ]
  },
  {
   "cell_type": "code",
   "execution_count": 3,
   "id": "f38c5277",
   "metadata": {},
   "outputs": [],
   "source": [
    "def gradient_descent(max_iterations,threshold,w_init,\n",
    "                     obj_func,grad_func,extra_param = [],\n",
    "                     learning_rate=0.05,momentum=0.8):\n",
    "    \n",
    "    w = w_init\n",
    "    w_history = w\n",
    "    f_history = obj_func(w,extra_param)\n",
    "    delta_w = np.zeros(w.shape)\n",
    "    i = 0\n",
    "    diff = 1.0e10\n",
    "    \n",
    "    while  i<max_iterations and diff>threshold:\n",
    "        delta_w = -learning_rate*grad_func(w,extra_param) + momentum*delta_w\n",
    "        w = w+delta_w\n",
    "        \n",
    "        # store the history of w and f\n",
    "        w_history = np.vstack((w_history,w))\n",
    "        f_history = np.vstack((f_history,obj_func(w,extra_param)))\n",
    "        \n",
    "        # update iteration number and diff between successive values\n",
    "        # of objective function\n",
    "        i+=1\n",
    "        diff = np.absolute(f_history[-1]-f_history[-2])\n",
    "    \n",
    "    return w_history,f_history"
   ]
  },
  {
   "cell_type": "code",
   "execution_count": null,
   "id": "e090e489",
   "metadata": {},
   "outputs": [],
   "source": []
  }
 ],
 "metadata": {
  "kernelspec": {
   "display_name": "Python 3 (ipykernel)",
   "language": "python",
   "name": "python3"
  },
  "language_info": {
   "codemirror_mode": {
    "name": "ipython",
    "version": 3
   },
   "file_extension": ".py",
   "mimetype": "text/x-python",
   "name": "python",
   "nbconvert_exporter": "python",
   "pygments_lexer": "ipython3",
   "version": "3.9.7"
  }
 },
 "nbformat": 4,
 "nbformat_minor": 5
}
