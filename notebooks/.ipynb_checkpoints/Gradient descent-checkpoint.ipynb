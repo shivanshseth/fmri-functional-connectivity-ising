{
 "cells": [
  {
   "cell_type": "code",
   "execution_count": 100,
   "id": "20effbb9",
   "metadata": {
    "scrolled": false
   },
   "outputs": [],
   "source": [
    "import numpy as np\n",
    "import matplotlib.pyplot as plt\n",
    "import timeit"
   ]
  },
  {
   "cell_type": "code",
   "execution_count": 48,
   "id": "6353c34f",
   "metadata": {},
   "outputs": [],
   "source": [
    "bold = np.loadtxt('../data/50003_timeseries.txt')\n",
    "bold_bin = np.zeros(bold.shape)\n",
    "bold_bin[np.where(bold>=0)] = 1\n",
    "bold_bin[np.where(bold<0)] = -1\n",
    "n_rois = bold_bin.shape[1]\n",
    "n_timesteps = bold_bin.shape[0]"
   ]
  },
  {
   "cell_type": "code",
   "execution_count": 6,
   "id": "eb7f84b9",
   "metadata": {},
   "outputs": [
    {
     "data": {
      "text/plain": [
       "(196, 116)"
      ]
     },
     "execution_count": 6,
     "metadata": {},
     "output_type": "execute_result"
    }
   ],
   "source": [
    "beta = 1\n",
    "state = bold_bin\n",
    "state.shape"
   ]
  },
  {
   "cell_type": "code",
   "execution_count": 120,
   "id": "0c7713c8",
   "metadata": {},
   "outputs": [],
   "source": [
    "# globals\n",
    "def loss(J, s):\n",
    "    term1 = 0\n",
    "    term2 = 0\n",
    "    for t in range(n_timesteps):\n",
    "        C = beta * J @ s[t].T\n",
    "        term1 += C @ s[t].T\n",
    "        term2 -= np.sum(np.log(np.exp(C) + np.exp(-C)))\n",
    "    return (term1+term2)/n_timesteps\n",
    "\n",
    "def gradient(J, s):\n",
    "    grad = 0\n",
    "    for t in range(n_timesteps):\n",
    "        C = beta * J @ s[t].T\n",
    "        grad += s[t].T @ s[t] - np.tanh(C).T @ s[t]\n",
    "    return grad * beta/n_timesteps"
   ]
  },
  {
   "cell_type": "code",
   "execution_count": 117,
   "id": "4f3e2352",
   "metadata": {},
   "outputs": [],
   "source": [
    "def gradient_ascent(max_iterations,threshold,w_init,\n",
    "                     obj_func,grad_func,extra_param = [],\n",
    "                     learning_rate=0.01,momentum=0.8):\n",
    "    \n",
    "    w = w_init\n",
    "    w_history = [w]\n",
    "    f_history = [obj_func(w,extra_param)]\n",
    "    delta_w = np.zeros(w.shape)\n",
    "    i = 0\n",
    "    diff = 1.0e10\n",
    "    \n",
    "    while  i<max_iterations:\n",
    "        delta_w = learning_rate*grad_func(w,extra_param)\n",
    "        w = w+delta_w\n",
    "        \n",
    "        # store the history of w and f\n",
    "        w_history.append(w)\n",
    "        f_history.append(obj_func(w,extra_param))\n",
    "        \n",
    "        # update iteration number and diff between successive values\n",
    "        # of objective function\n",
    "        i+=1\n",
    "        diff = np.absolute(f_history[-1]-f_history[-2])\n",
    "    \n",
    "    return w_history,f_history"
   ]
  },
  {
   "cell_type": "code",
   "execution_count": 121,
   "id": "6796d86a",
   "metadata": {
    "scrolled": false
   },
   "outputs": [
    {
     "name": "stdout",
     "output_type": "stream",
     "text": [
      "(116, 116)\n",
      "2.30902690000039\n"
     ]
    }
   ],
   "source": [
    "J = np.random.uniform(0, 1, size=(n_rois, n_rois))\n",
    "J = (J + J.T)/2 # making it symmetric\n",
    "np.fill_diagonal(J, 1)\n",
    "print(J.shape)\n",
    "start = timeit.default_timer()\n",
    "\n",
    "#Your statements here\n",
    "\n",
    "J_hist, f_hist = gradient_descent(100, 0.05, J, loss, gradient, extra_param=bold_bin)\n",
    "stop = timeit.default_timer()\n",
    "print(stop - start)"
   ]
  },
  {
   "cell_type": "code",
   "execution_count": 122,
   "id": "550b6ee3",
   "metadata": {},
   "outputs": [
    {
     "data": {
      "text/plain": [
       "[<matplotlib.lines.Line2D at 0x7f6bbddd5460>]"
      ]
     },
     "execution_count": 122,
     "metadata": {},
     "output_type": "execute_result"
    },
    {
     "data": {
      "image/png": "[encoded data removed]",
      "text/plain": [
       "<Figure size 432x288 with 1 Axes>"
      ]
     },
     "metadata": {
      "needs_background": "light"
     },
     "output_type": "display_data"
    }
   ],
   "source": [
    "plt.plot(f_hist)"
   ]
  },
  {
   "cell_type": "code",
   "execution_count": 116,
   "id": "70740b6b",
   "metadata": {},
   "outputs": [
    {
     "data": {
      "text/plain": [
       "-1070.6506857230422"
      ]
     },
     "execution_count": 116,
     "metadata": {},
     "output_type": "execute_result"
    }
   ],
   "source": [
    "J = np.random.uniform(0, 1, size=(n_rois, n_rois))\n",
    "J = (J + J.T)/2 # making it symmetric\n",
    "np.fill_diagonal(J, 1)\n",
    "loss(J, bold_bin)"
   ]
  },
  {
   "cell_type": "code",
   "execution_count": 101,
   "id": "0ee4d1e0",
   "metadata": {},
   "outputs": [],
   "source": [
    "fc = 1/n_timesteps * bold_bin.T @ bold_bin"
   ]
  },
  {
   "cell_type": "code",
   "execution_count": 125,
   "id": "0c7691b9",
   "metadata": {},
   "outputs": [
    {
     "data": {
      "text/plain": [
       "[<matplotlib.lines.Line2D at 0x7f6bbdd36c70>]"
      ]
     },
     "execution_count": 125,
     "metadata": {},
     "output_type": "execute_result"
    },
    {
     "data": {
      "image/png": "[encoded data removed]",
      "text/plain": [
       "<Figure size 432x288 with 1 Axes>"
      ]
     },
     "metadata": {
      "needs_background": "light"
     },
     "output_type": "display_data"
    }
   ],
   "source": [
    "corr = []\n",
    "for i in J_hist:\n",
    "    corr.append(loss(i, bold_bin))\n",
    "#     c = np.corrcoef(np.triu(fc).flatten(), np.triu(i).flatten())[0, 1]\n",
    "#     corr.append(c)\n",
    "plt.plot(corr)"
   ]
  },
  {
   "cell_type": "code",
   "execution_count": null,
   "id": "fbc8b487",
   "metadata": {},
   "outputs": [],
   "source": []
  }
 ],
 "metadata": {
  "kernelspec": {
   "display_name": "Python 3 (ipykernel)",
   "language": "python",
   "name": "python3"
  },
  "language_info": {
   "codemirror_mode": {
    "name": "ipython",
    "version": 3
   },
   "file_extension": ".py",
   "mimetype": "text/x-python",
   "name": "python",
   "nbconvert_exporter": "python",
   "pygments_lexer": "ipython3",
   "version": "3.9.7"
  }
 },
 "nbformat": 4,
 "nbformat_minor": 5
}
