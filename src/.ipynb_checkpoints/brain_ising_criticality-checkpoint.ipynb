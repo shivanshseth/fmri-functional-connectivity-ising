{
 "cells": [
  {
   "cell_type": "code",
   "execution_count": 34,
   "id": "33edeafd",
   "metadata": {},
   "outputs": [
    {
     "name": "stdout",
     "output_type": "stream",
     "text": [
      "Requirement already satisfied: networkx in /home/shivansh/miniconda3/envs/brain/lib/python3.9/site-packages (2.5.1)\n",
      "Requirement already satisfied: decorator<5,>=4.3 in /home/shivansh/miniconda3/envs/brain/lib/python3.9/site-packages (from networkx) (4.4.2)\n"
     ]
    }
   ],
   "source": [
    "!pip install networkx"
   ]
  },
  {
   "cell_type": "code",
   "execution_count": 35,
   "id": "d580e44a",
   "metadata": {},
   "outputs": [],
   "source": [
    "import numpy as np\n",
    "import matplotlib.pyplot as plt\n",
    "from scripts.simple_ising import IsingSimulation\n",
    "import networkx as nx"
   ]
  },
  {
   "cell_type": "code",
   "execution_count": 2,
   "id": "5be9a81c",
   "metadata": {},
   "outputs": [],
   "source": [
    "bold = np.loadtxt('../data/50003_timeseries.txt')\n",
    "n_rois = bold.shape[1]\n",
    "n_timesteps = bold.shape[0]"
   ]
  },
  {
   "cell_type": "code",
   "execution_count": 97,
   "id": "468bfcca",
   "metadata": {},
   "outputs": [],
   "source": [
    "T_sb = 2\n",
    "T_c = 2.3\n",
    "T_sp = 3\n",
    "beta_sb = 1/T_sb\n",
    "beta_c = 1/T_c\n",
    "beta_sp = 1/T_sp\n",
    "L = 10\n",
    "N = L*L\n",
    "sim_timesteps = 200\n",
    "eq_steps = 1000"
   ]
  },
  {
   "cell_type": "code",
   "execution_count": 69,
   "id": "7db4f47a",
   "metadata": {},
   "outputs": [],
   "source": [
    "fc = 1/n_timesteps * bold.T @ bold"
   ]
  },
  {
   "cell_type": "code",
   "execution_count": 98,
   "id": "e0f5e953",
   "metadata": {},
   "outputs": [
    {
     "name": "stdout",
     "output_type": "stream",
     "text": [
      "0\n",
      "100\n",
      "200\n",
      "300\n",
      "400\n",
      "500\n",
      "600\n",
      "700\n",
      "800\n",
      "900\n",
      "0\n",
      "100\n",
      "200\n",
      "300\n",
      "400\n",
      "500\n",
      "600\n",
      "700\n",
      "800\n",
      "900\n",
      "0\n",
      "100\n",
      "200\n",
      "300\n",
      "400\n",
      "500\n",
      "600\n",
      "700\n",
      "800\n",
      "900\n"
     ]
    }
   ],
   "source": [
    "sim_sb = IsingSimulation(L, beta)\n",
    "M = []\n",
    "E = []\n",
    "for i in range(eq_steps):\n",
    "    if i%100==0: print(i)\n",
    "    sim.step()\n",
    "    M.append(sim.calcMag())\n",
    "    E.append(sim.calcEnergy())\n",
    "\n",
    "sim_c = IsingSimulation(L, beta_c)\n",
    "M = []\n",
    "E = []\n",
    "for i in range(eq_steps):\n",
    "    if i%100==0: print(i)\n",
    "    sim.step()\n",
    "    M.append(sim.calcMag())\n",
    "    E.append(sim.calcEnergy())\n",
    "    \n",
    "sim_sp = IsingSimulation(L, beta_sp)\n",
    "M = []\n",
    "E = []\n",
    "for i in range(eq_steps):\n",
    "    if i%100==0: print(i)\n",
    "    sim.step()\n",
    "    M.append(sim.calcMag())\n",
    "    E.append(sim.calcEnergy())"
   ]
  },
  {
   "cell_type": "code",
   "execution_count": 71,
   "id": "58b5f097",
   "metadata": {},
   "outputs": [
    {
     "data": {
      "text/plain": [
       "[<matplotlib.lines.Line2D at 0x7f6ea8caf490>]"
      ]
     },
     "execution_count": 71,
     "metadata": {},
     "output_type": "execute_result"
    },
    {
     "data": {
      "image/png": "[encoded data removed]",
      "text/plain": [
       "<Figure size 432x288 with 1 Axes>"
      ]
     },
     "metadata": {
      "needs_background": "light"
     },
     "output_type": "display_data"
    }
   ],
   "source": [
    "plt.plot(M)"
   ]
  },
  {
   "cell_type": "code",
   "execution_count": 99,
   "id": "6e755b5d",
   "metadata": {},
   "outputs": [],
   "source": [
    "_, sb_fc = sim_sb.getTimeseries(2000)\n",
    "_, c_fc = sim_c.getTimeseries(2000)\n",
    "_, sp_fc = sim_c.getTimeseries(2000)"
   ]
  },
  {
   "cell_type": "code",
   "execution_count": 102,
   "id": "5cf1c77c",
   "metadata": {},
   "outputs": [],
   "source": [
    "bold_k = {}\n",
    "for ρ in np.linspace(0.1, 1, 100):\n",
    "    adj = np.zeros((n_rois, n_rois))\n",
    "    adj[fc > ρ] = 1\n",
    "    k = np.mean(np.sum(adj, axis = 0))\n",
    "    bold_k[ρ] = k\n",
    "\n",
    "sb_k = {}\n",
    "for ρ in np.linspace(0.1, 1, 100):\n",
    "    adj = np.zeros((N, N))\n",
    "    adj[sb_fc > ρ] = 1\n",
    "    k = np.mean(np.sum(adj, axis = 0))\n",
    "    sb_k[ρ] = k\n",
    "    \n",
    "c_k = {}\n",
    "for ρ in np.linspace(0.1, 1, 100):\n",
    "    adj = np.zeros((N, N))\n",
    "    adj[c_fc > ρ] = 1\n",
    "    k = np.mean(np.sum(adj, axis = 0))\n",
    "    c_k[ρ] = k\n",
    "\n",
    "sp_k = {}\n",
    "for ρ in np.linspace(0.1, 1, 100):\n",
    "    adj = np.zeros((N, N))\n",
    "    adj[sp_fc > ρ] = 1\n",
    "    k = np.mean(np.sum(adj, axis = 0))\n",
    "    sp_k[ρ] = k"
   ]
  },
  {
   "cell_type": "code",
   "execution_count": 104,
   "id": "c1be841d",
   "metadata": {},
   "outputs": [
    {
     "data": {
      "image/png": "[encoded data removed]",
      "text/plain": [
       "<Figure size 432x288 with 1 Axes>"
      ]
     },
     "metadata": {
      "needs_background": "light"
     },
     "output_type": "display_data"
    }
   ],
   "source": [
    "plt.plot(bold_k.keys(), bold_k.values(), label='bold')\n",
    "plt.plot(sb_k.keys(), sb_k.values(), label='sub')\n",
    "plt.plot(sb_k.keys(), sp_k.values(), label='super')\n",
    "plt.plot(sb_k.keys(), c_k.values(), label='crticical')\n",
    "plt.legend()\n",
    "plt.show()"
   ]
  },
  {
   "cell_type": "code",
   "execution_count": 112,
   "id": "c16ef01a",
   "metadata": {
    "scrolled": false
   },
   "outputs": [],
   "source": [
    "f = 0\n",
    "p = {}\n",
    "p_bold = {}\n",
    "for p1 in np.linspace(0.1, 1, 100):\n",
    "    for p2 in np.linspace(0.1, 1, 100):\n",
    "        if abs(sb_k[p2] - bold_k[p1]) < 1:\n",
    "            p['sb'], p_bold['sb'] = p2, p1\n",
    "            f = 1\n",
    "            break\n",
    "    if f: break\n",
    "\n",
    "f = 0\n",
    "for p1 in np.linspace(0.1, 1, 100):\n",
    "    for p2 in np.linspace(0.1, 1, 100):\n",
    "        if abs(c_k[p2] - bold_k[p1]) < 1:\n",
    "            p['c'], p_bold['c'] = p2, p1\n",
    "            f = 1\n",
    "            break\n",
    "    if f: break\n",
    "f = 0\n",
    "for p1 in np.linspace(0.1, 1, 100):\n",
    "    for p2 in np.linspace(0.1, 1, 100):\n",
    "        if abs(sp_k[p2] - bold_k[p1]) < 1:\n",
    "            p['sp'], p_bold['sp'] = p2, p1\n",
    "            f = 1\n",
    "            break\n",
    "    if f: break"
   ]
  },
  {
   "cell_type": "code",
   "execution_count": 113,
   "id": "267c44c7",
   "metadata": {},
   "outputs": [
    {
     "data": {
      "text/plain": [
       "{'sb': 0.8363636363636363, 'c': 0.5818181818181818, 'sp': 0.5363636363636364}"
      ]
     },
     "execution_count": 113,
     "metadata": {},
     "output_type": "execute_result"
    }
   ],
   "source": [
    "p"
   ]
  },
  {
   "cell_type": "code",
   "execution_count": 114,
   "id": "9a9eb034",
   "metadata": {},
   "outputs": [
    {
     "data": {
      "text/plain": [
       "{'sb': 0.1272727272727273, 'c': 0.1272727272727273, 'sp': 0.1181818181818182}"
      ]
     },
     "execution_count": 114,
     "metadata": {},
     "output_type": "execute_result"
    }
   ],
   "source": [
    "p_bold"
   ]
  },
  {
   "cell_type": "code",
   "execution_count": 118,
   "id": "c8395b61",
   "metadata": {},
   "outputs": [],
   "source": [
    "adj = np.zeros((n_rois, n_rois))\n",
    "adj[fc > p_bold['c']] = 1\n",
    "bold_network = nx.from_numpy_matrix(adj)"
   ]
  },
  {
   "cell_type": "code",
   "execution_count": 119,
   "id": "af335f61",
   "metadata": {},
   "outputs": [
    {
     "data": {
      "text/plain": [
       "0.6369174526685181"
      ]
     },
     "execution_count": 119,
     "metadata": {},
     "output_type": "execute_result"
    }
   ],
   "source": [
    "print(nx.average_clustering(bold_network))\n",
    "print(nx.average_shortest_path_length(bold_network))\n",
    "print(nx.diameter(bold_network))"
   ]
  },
  {
   "cell_type": "code",
   "execution_count": 125,
   "id": "c1175db8",
   "metadata": {},
   "outputs": [
    {
     "name": "stdout",
     "output_type": "stream",
     "text": [
      "0.7625353769693539\n",
      "1.4866666666666666\n",
      "3\n"
     ]
    }
   ],
   "source": [
    "adj = np.zeros((N, N))\n",
    "adj[c_fc > p['c']] = 1\n",
    "bold_network = nx.from_numpy_matrix(adj)\n",
    "print(nx.average_clustering(bold_network))\n",
    "print(nx.average_shortest_path_length(bold_network))\n",
    "print(nx.diameter(bold_network))"
   ]
  },
  {
   "cell_type": "code",
   "execution_count": 126,
   "id": "8023b62f",
   "metadata": {
    "scrolled": true
   },
   "outputs": [
    {
     "name": "stdout",
     "output_type": "stream",
     "text": [
      "0.8047888163195916\n",
      "1.4828282828282828\n",
      "3\n"
     ]
    }
   ],
   "source": [
    "adj = np.zeros((N, N))\n",
    "adj[sb_fc > p['sb']] = 1\n",
    "bold_network = nx.from_numpy_matrix(adj)\n",
    "print(nx.average_clustering(bold_network))\n",
    "print(nx.average_shortest_path_length(bold_network))\n",
    "print(nx.diameter(bold_network))"
   ]
  },
  {
   "cell_type": "code",
   "execution_count": 127,
   "id": "5b2e1311",
   "metadata": {},
   "outputs": [
    {
     "name": "stdout",
     "output_type": "stream",
     "text": [
      "1.0\n",
      "1.0\n",
      "1\n"
     ]
    }
   ],
   "source": [
    "adj = np.zeros((N, N))\n",
    "adj[sb_fc > p['sp']] = 1\n",
    "bold_network = nx.from_numpy_matrix(adj)\n",
    "print(nx.average_clustering(bold_network))\n",
    "print(nx.average_shortest_path_length(bold_network))\n",
    "print(nx.diameter(bold_network))"
   ]
  },
  {
   "cell_type": "code",
   "execution_count": null,
   "id": "19808d2e",
   "metadata": {},
   "outputs": [],
   "source": []
  }
 ],
 "metadata": {
  "kernelspec": {
   "display_name": "Python 3 (ipykernel)",
   "language": "python",
   "name": "python3"
  },
  "language_info": {
   "codemirror_mode": {
    "name": "ipython",
    "version": 3
   },
   "file_extension": ".py",
   "mimetype": "text/x-python",
   "name": "python",
   "nbconvert_exporter": "python",
   "pygments_lexer": "ipython3",
   "version": "3.9.7"
  }
 },
 "nbformat": 4,
 "nbformat_minor": 5
}
