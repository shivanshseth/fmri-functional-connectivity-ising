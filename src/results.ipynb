{
 "cells": [
  {
   "cell_type": "code",
   "execution_count": 1,
   "metadata": {},
   "outputs": [],
   "source": [
    "import matplotlib.pyplot as plt\n",
    "import numpy as np"
   ]
  },
  {
   "cell_type": "code",
   "execution_count": 4,
   "metadata": {},
   "outputs": [],
   "source": [
    "corrs, stds = np.loadtxt('./results/beta_optimization').T\n",
    "betas = np.linspace(0, 2, 50)"
   ]
  },
  {
   "cell_type": "code",
   "execution_count": null,
   "metadata": {},
   "outputs": [],
   "source": [
    "plt.errorbar(betas, corrs, fmt='o-', yerr=stds, capsize=5, color='gray')\n",
    "plt.xlabel(r'$\\beta$', fontsize=14)\n",
    "plt.ylabel('Correlation', fontsize=14)\n",
    "plt.tick_params(axis='both', which='major', direction='inout', length = 10, width = 1.5, labelsize='14')"
   ]
  }
 ],
 "metadata": {
  "kernelspec": {
   "display_name": "Python 3.9.7 ('brain')",
   "language": "python",
   "name": "python3"
  },
  "language_info": {
   "codemirror_mode": {
    "name": "ipython",
    "version": 3
   },
   "file_extension": ".py",
   "mimetype": "text/x-python",
   "name": "python",
   "nbconvert_exporter": "python",
   "pygments_lexer": "ipython3",
   "version": "3.9.7"
  },
  "orig_nbformat": 4,
  "vscode": {
   "interpreter": {
    "hash": "5ad3f1a215440f9155109064f773e6e59d1d6c6675c677d01728458ca0d08c94"
   }
  }
 },
 "nbformat": 4,
 "nbformat_minor": 2
}
