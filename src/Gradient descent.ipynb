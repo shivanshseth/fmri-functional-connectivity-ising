{
 "cells": [
  {
   "cell_type": "code",
   "execution_count": 1,
   "id": "20effbb9",
   "metadata": {
    "scrolled": false
   },
   "outputs": [],
   "source": [
    "import numpy as np\n",
    "import matplotlib.pyplot as plt\n",
    "import timeit\n",
    "from scripts.ising_simulation import IsingSimulation\n",
    "from joblib import Parallel, delayed\n",
    "from scipy import optimize\n"
   ]
  },
  {
   "cell_type": "code",
   "execution_count": 2,
   "id": "6353c34f",
   "metadata": {},
   "outputs": [],
   "source": [
    "bold = np.loadtxt('../data/50003_timeseries.txt')\n",
    "bold_bin = np.zeros(bold.shape)\n",
    "bold_bin[np.where(bold>=0)] = 1\n",
    "bold_bin[np.where(bold<0)] = -1\n",
    "n_rois = bold_bin.shape[1]\n",
    "n_timesteps = bold_bin.shape[0]"
   ]
  },
  {
   "cell_type": "code",
   "execution_count": null,
   "id": "fb039127",
   "metadata": {},
   "outputs": [],
   "source": []
  },
  {
   "cell_type": "code",
   "execution_count": 3,
   "id": "eb7f84b9",
   "metadata": {},
   "outputs": [
    {
     "data": {
      "text/plain": [
       "(196, 116)"
      ]
     },
     "execution_count": 3,
     "metadata": {},
     "output_type": "execute_result"
    }
   ],
   "source": [
    "beta = 0.1\n",
    "state = bold_bin\n",
    "state.shape"
   ]
  },
  {
   "cell_type": "code",
   "execution_count": 67,
   "id": "0c7713c8",
   "metadata": {},
   "outputs": [],
   "source": [
    "def loss(J, s):\n",
    "#     print(s.shape)\n",
    "    J = np.reshape(J, (n_rois, n_rois))\n",
    "#     print(J.shape)\n",
    "    term1 = 0\n",
    "    term2 = 0\n",
    "    for t in range(n_timesteps):\n",
    "        C = beta * J @ s[t].T\n",
    "        term1 += C @ s[t].T\n",
    "        term2 -= np.sum(np.log(np.exp(C) + np.exp(-C)))\n",
    "    return (term1+term2)/n_timesteps\n",
    "\n",
    "def gradient(J, s):\n",
    "    J = np.reshape(J, (n_rois, n_rois))\n",
    "    grad = np.zeros((n_rois, n_rois))\n",
    "    for t in range(n_timesteps):\n",
    "        C = beta * J @ s[t].T\n",
    "        grad += np.outer(s[t], s[t].T) - np.outer(np.tanh(C).T, s[t])\n",
    "    grad = grad * beta/n_timesteps\n",
    "    return grad.flatten()"
   ]
  },
  {
   "cell_type": "code",
   "execution_count": 74,
   "id": "4f3e2352",
   "metadata": {},
   "outputs": [],
   "source": [
    "def gradient_ascent(max_iterations,w_init,\n",
    "                     obj_func,grad_func,extra_param = [],\n",
    "                     learning_rate=0.05,momentum=0.8, threshold=0.005):\n",
    "    \n",
    "    w = w_init\n",
    "    w_history = [w]\n",
    "    f_history = [obj_func(w,extra_param)]\n",
    "    delta_w = np.zeros(w.shape)\n",
    "    i = 0\n",
    "    diff = 1.0e10\n",
    "    \n",
    "    while i<max_iterations:\n",
    "        grad = grad_func(w,extra_param)\n",
    "        # print(\"from func\", grad.shape)\n",
    "        grad = np.reshape(grad, (n_rois, n_rois))\n",
    "        # print(grad.shape)\n",
    "        delta_w = learning_rate*grad\n",
    "        w = w+delta_w\n",
    "        w_history.append(w)\n",
    "        f_history.append(obj_func(w,extra_param))\n",
    "        if i%10 == 0: \n",
    "            print(f\"iteration: {i} loss: {f_history[-1]} grad: {np.sum(grad)}\")\n",
    "        i+=1\n",
    "        diff = np.absolute(f_history[-1]-f_history[-2])\n",
    "    \n",
    "    return w_history,f_history"
   ]
  },
  {
   "cell_type": "code",
   "execution_count": 75,
   "id": "d9e2205d",
   "metadata": {},
   "outputs": [],
   "source": [
    "sim_timesteps = 20\n",
    "eq_steps = 1000     #  number of MC sweeps for equilibration\n",
    "σ = 10000\n",
    "α = 1"
   ]
  },
  {
   "cell_type": "code",
   "execution_count": 76,
   "id": "1e3964ab",
   "metadata": {},
   "outputs": [],
   "source": [
    "J = np.random.uniform(0, 1, size=(n_rois, n_rois))\n",
    "J = (J + J.T)/2 # making it symmetric\n",
    "np.fill_diagonal(J, 0)"
   ]
  },
  {
   "cell_type": "code",
   "execution_count": 77,
   "id": "86a73b8d",
   "metadata": {},
   "outputs": [],
   "source": [
    "fc = 1/n_timesteps * bold_bin.T @ bold_bin"
   ]
  },
  {
   "cell_type": "code",
   "execution_count": 78,
   "id": "ac07e5da",
   "metadata": {},
   "outputs": [
    {
     "data": {
      "text/plain": [
       "-132.04137316667283"
      ]
     },
     "execution_count": 78,
     "metadata": {},
     "output_type": "execute_result"
    }
   ],
   "source": [
    "loss(J.flatten(), bold_bin)"
   ]
  },
  {
   "cell_type": "code",
   "execution_count": 79,
   "id": "4c436d5f",
   "metadata": {},
   "outputs": [
    {
     "name": "stdout",
     "output_type": "stream",
     "text": [
      "iteration: 0 loss: -124.42329946371156 grad: -187.52208755489045\n",
      "iteration: 10 loss: -69.32577874387675 grad: -134.71595156775268\n",
      "iteration: 20 loss: -47.83639938321576 grad: -68.70263513974008\n",
      "iteration: 30 loss: -38.42637061724544 grad: -34.1201597236294\n",
      "iteration: 40 loss: -32.754432463997546 grad: -18.377989647581906\n",
      "iteration: 50 loss: -28.758681046016193 grad: -10.67193983835469\n",
      "iteration: 60 loss: -25.721860043682458 grad: -6.501983624306979\n",
      "iteration: 70 loss: -23.30703314236214 grad: -4.041093885656245\n",
      "iteration: 80 loss: -21.32708020811394 grad: -2.487929086538384\n",
      "iteration: 90 loss: -19.667059931741836 grad: -1.4567376510785237\n",
      "iteration: 100 loss: -18.251308130642187 grad: -0.74540337535277\n",
      "iteration: 110 loss: -17.027399059459174 grad: -0.24022947653618207\n",
      "iteration: 120 loss: -15.957545915021631 grad: 0.12657539770318535\n",
      "iteration: 130 loss: -15.013647697512354 grad: 0.3974065818215538\n",
      "iteration: 140 loss: -14.174269803400605 grad: 0.5998442203261344\n",
      "iteration: 150 loss: -13.422716503008443 grad: 0.7524328731448728\n",
      "iteration: 160 loss: -12.745752533003037 grad: 0.8679954883407504\n",
      "iteration: 170 loss: -12.132727546671699 grad: 0.9556138647057\n",
      "iteration: 180 loss: -11.574959866670353 grad: 1.0218549720149521\n",
      "iteration: 190 loss: -11.06529243430739 grad: 1.0715539898917217\n",
      "iteration: 200 loss: -10.597766246166614 grad: 1.1083279023849248\n",
      "iteration: 210 loss: -10.167375869279493 grad: 1.1349204452102335\n",
      "iteration: 220 loss: -9.769883505062 grad: 1.1534387362275091\n",
      "iteration: 230 loss: -9.401675596187637 grad: 1.165518720802653\n",
      "iteration: 240 loss: -9.059650859062904 grad: 1.1724428567903826\n",
      "iteration: 250 loss: -8.74113187409714 grad: 1.1752251468998893\n",
      "iteration: 260 loss: -8.443794571000414 grad: 1.174673459243754\n",
      "iteration: 270 loss: -8.165611470857083 grad: 1.1714357982643668\n",
      "iteration: 280 loss: -7.904805618811484 grad: 1.166035067441611\n",
      "iteration: 290 loss: -7.659812906926238 grad: 1.1588954687682125\n",
      "iteration: 300 loss: -7.429251041455338 grad: 1.1503627491670971\n",
      "iteration: 310 loss: -7.211893815823343 grad: 1.1407198684236126\n",
      "iteration: 320 loss: -7.006649652869207 grad: 1.1301992246783708\n",
      "iteration: 330 loss: -6.8125436068201415 grad: 1.1189922667839092\n",
      "iteration: 340 loss: -6.6287021875115375 grad: 1.1072571054893166\n",
      "iteration: 350 loss: -6.45434050105118 grad: 1.095124579565296\n",
      "iteration: 360 loss: -6.288751302742621 grad: 1.0827031199695725\n",
      "iteration: 370 loss: -6.131295637178705 grad: 1.0700826723529164\n",
      "iteration: 380 loss: -5.981394802385248 grad: 1.0573378769590984\n",
      "iteration: 390 loss: -5.838523423830338 grad: 1.0445306592647254\n",
      "iteration: 400 loss: -5.702203462980499 grad: 1.0317123503128696\n",
      "iteration: 410 loss: -5.571999016166139 grad: 1.0189254296177632\n",
      "iteration: 420 loss: -5.447511784491048 grad: 1.0062049636041517\n",
      "iteration: 430 loss: -5.328377115738216 grad: 0.9935797972350929\n",
      "iteration: 440 loss: -5.214260535616854 grad: 0.9810735446368916\n",
      "iteration: 450 loss: -5.1048546991228525 grad: 0.9687054153100381\n",
      "iteration: 460 loss: -4.9998767037725385 grad: 0.9564909052975503\n",
      "iteration: 470 loss: -4.899065715535211 grad: 0.9444423770011293\n",
      "iteration: 480 loss: -4.802180865805133 grad: 0.9325695468404942\n",
      "iteration: 490 loss: -4.708999383976928 grad: 0.9208798963767797\n",
      "iteration: 500 loss: -4.619314935397244 grad: 0.9093790196646139\n",
      "iteration: 510 loss: -4.532936138827924 grad: 0.8980709173047\n",
      "iteration: 520 loss: -4.449685241206309 grad: 0.8869582458199365\n",
      "iteration: 530 loss: -4.369396930586121 grad: 0.8760425294811043\n",
      "iteration: 540 loss: -4.291917270746015 grad: 0.8653243404909312\n",
      "iteration: 550 loss: -4.217102743180977 grad: 0.8548034524418395\n",
      "iteration: 560 loss: -4.144819384067033 grad: 0.8444789711486724\n",
      "iteration: 570 loss: -4.074942005405579 grad: 0.8343494462883707\n",
      "iteration: 580 loss: -4.007353490937355 grad: 0.8244129667263671\n",
      "iteration: 590 loss: -3.9419441585929347 grad: 0.8146672419523711\n",
      "iteration: 600 loss: -3.8786111822683984 grad: 0.8051096716686453\n",
      "iteration: 610 loss: -3.817258066596748 grad: 0.7957374052578053\n",
      "iteration: 620 loss: -3.757794169138295 grad: 0.7865473925932042\n",
      "iteration: 630 loss: -3.7001342650840585 grad: 0.7775364274338588\n",
      "iteration: 640 loss: -3.6441981501259444 grad: 0.7687011844603173\n",
      "iteration: 650 loss: -3.589910277655449 grad: 0.7600382508516459\n",
      "iteration: 660 loss: -3.53719942688503 grad: 0.7515441531719417\n",
      "iteration: 670 loss: -3.4859983988657666 grad: 0.7432153802233792\n",
      "iteration: 680 loss: -3.436243737705363 grad: 0.7350484024284036\n",
      "iteration: 690 loss: -3.3878754745949906 grad: 0.7270396882235581\n",
      "iteration: 700 loss: -3.340836892492712 grad: 0.7191857178792814\n",
      "iteration: 710 loss: -3.295074309555498 grad: 0.7114829951019118\n",
      "iteration: 720 loss: -3.250536879599019 grad: 0.7039280567245878\n",
      "iteration: 730 loss: -3.207176408050405 grad: 0.6965174807513307\n",
      "iteration: 740 loss: -3.1649471820075297 grad: 0.6892478929822923\n",
      "iteration: 750 loss: -3.1238058131640005 grad: 0.6821159724170319\n",
      "iteration: 760 loss: -3.083711092484863 grad: 0.6751184556059326\n",
      "iteration: 770 loss: -3.044623855607843 grad: 0.6682521400968959\n",
      "iteration: 780 loss: -3.0065068580824654 grad: 0.6615138871046182\n",
      "iteration: 790 loss: -2.9693246595940894 grad: 0.6549006235127188\n",
      "iteration: 800 loss: -2.933043516453019 grad: 0.6484093433042133\n",
      "iteration: 810 loss: -2.897631281651545 grad: 0.6420371085031336\n",
      "iteration: 820 loss: -2.8630573118832903 grad: 0.6357810496990417\n",
      "iteration: 830 loss: -2.829292380971644 grad: 0.6296383662166802\n",
      "iteration: 840 loss: -2.796308599189225 grad: 0.6236063259847167\n",
      "iteration: 850 loss: -2.7640793380117112 grad: 0.6176822651503884\n",
      "iteration: 860 loss: -2.7325791598868445 grad: 0.6118635874806154\n",
      "iteration: 870 loss: -2.7017837526296455 grad: 0.6061477635847612\n",
      "iteration: 880 loss: -2.6716698680943316 grad: 0.6005323299895126\n",
      "iteration: 890 loss: -2.642215264804282 grad: 0.5950148880922776\n",
      "iteration: 900 loss: -2.6133986542416987 grad: 0.5895931030159248\n",
      "iteration: 910 loss: -2.585199650532243 grad: 0.5842647023846201\n",
      "iteration: 920 loss: -2.5575987232724047 grad: 0.5790274750377985\n",
      "iteration: 930 loss: -2.5305771532810244 grad: 0.5738792696969769\n",
      "iteration: 940 loss: -2.5041169910552097 grad: 0.5688179935980622\n",
      "iteration: 950 loss: -2.4782010177542753 grad: 0.56384161110002\n",
      "iteration: 960 loss: -2.4528127085203018 grad: 0.5589481422792295\n",
      "iteration: 970 loss: -2.4279361979823415 grad: 0.5541356615174884\n",
      "iteration: 980 loss: -2.4035562477946195 grad: 0.5494022960904408\n",
      "iteration: 990 loss: -2.379658216064631 grad: 0.544746224762202\n"
     ]
    }
   ],
   "source": [
    "J_hist, f_hist = gradient_ascent(σ, J, loss, gradient, extra_param=bold_bin, learning_rate=α)\n",
    "J_max = J_hist[f_hist.index(max(f_hist))]\n",
    "sim = IsingSimulation(n_rois, beta, coupling_mat = True, J=J_max)\n",
    "for i in range(eq_steps):\n",
    "    sim.step()"
   ]
  },
  {
   "cell_type": "code",
   "execution_count": 10,
   "id": "7bc39f89",
   "metadata": {},
   "outputs": [],
   "source": [
    "def callback(x, *args):\n",
    "    print(loss(x, bold_bin))"
   ]
  },
  {
   "cell_type": "code",
   "execution_count": 24,
   "id": "80725792",
   "metadata": {},
   "outputs": [
    {
     "data": {
      "text/plain": [
       "-133.29607561535025"
      ]
     },
     "execution_count": 24,
     "metadata": {},
     "output_type": "execute_result"
    }
   ],
   "source": [
    "args = (bold_bin, )\n",
    "\n",
    "loss(J.flatten(), *args)"
   ]
  },
  {
   "cell_type": "code",
   "execution_count": 80,
   "id": "90d9fa4e",
   "metadata": {},
   "outputs": [
    {
     "name": "stderr",
     "output_type": "stream",
     "text": [
      "/tmp/ipykernel_2678/3383244535.py:10: RuntimeWarning: overflow encountered in exp\n",
      "  term2 -= np.sum(np.log(np.exp(C) + np.exp(-C)))\n",
      "/tmp/ipykernel_2678/3383244535.py:10: RuntimeWarning: overflow encountered in exp\n",
      "  term2 -= np.sum(np.log(np.exp(C) + np.exp(-C)))\n",
      "/tmp/ipykernel_2678/3383244535.py:10: RuntimeWarning: overflow encountered in exp\n",
      "  term2 -= np.sum(np.log(np.exp(C) + np.exp(-C)))\n",
      "/tmp/ipykernel_2678/3383244535.py:10: RuntimeWarning: overflow encountered in exp\n",
      "  term2 -= np.sum(np.log(np.exp(C) + np.exp(-C)))\n"
     ]
    },
    {
     "name": "stdout",
     "output_type": "stream",
     "text": [
      "Warning: Desired error not necessarily achieved due to precision loss.\n",
      "         Current function value: -inf\n",
      "         Iterations: 2\n",
      "         Function evaluations: 336\n",
      "         Gradient evaluations: 324\n"
     ]
    },
    {
     "name": "stderr",
     "output_type": "stream",
     "text": [
      "/tmp/ipykernel_2678/3383244535.py:10: RuntimeWarning: overflow encountered in exp\n",
      "  term2 -= np.sum(np.log(np.exp(C) + np.exp(-C)))\n"
     ]
    }
   ],
   "source": [
    "res = optimize.fmin_cg(loss, x0=J.flatten(), fprime=gradient, args=(bold_bin, ), disp=True)"
   ]
  },
  {
   "cell_type": "code",
   "execution_count": 18,
   "id": "932180c7",
   "metadata": {},
   "outputs": [],
   "source": [
    "init_state = np.ones(n_rois)"
   ]
  },
  {
   "cell_type": "code",
   "execution_count": 19,
   "id": "ecf136bb",
   "metadata": {},
   "outputs": [
    {
     "name": "stdout",
     "output_type": "stream",
     "text": [
      "[1. 1. 1. 1. 1. 1. 1. 1. 1. 1. 1. 1. 1. 1. 1. 1. 1. 1. 1. 1. 1. 1. 1. 1.\n",
      " 1. 1. 1. 1. 1. 1. 1. 1. 1. 1. 1. 1. 1. 1. 1. 1. 1. 1. 1. 1. 1. 1. 1. 1.\n",
      " 1. 1. 1. 1. 1. 1. 1. 1. 1. 1. 1. 1. 1. 1. 1. 1. 1. 1. 1. 1. 1. 1. 1. 1.\n",
      " 1. 1. 1. 1. 1. 1. 1. 1. 1. 1. 1. 1. 1. 1. 1. 1. 1. 1. 1. 1. 1. 1. 1. 1.\n",
      " 1. 1. 1. 1. 1. 1. 1. 1. 1. 1. 1. 1. 1. 1. 1. 1. 1. 1. 1. 1.]\n",
      "[1. 1. 1. 1. 1. 1. 1. 1. 1. 1. 1. 1. 1. 1. 1. 1. 1. 1. 1. 1. 1. 1. 1. 1.\n",
      " 1. 1. 1. 1. 1. 1. 1. 1. 1. 1. 1. 1. 1. 1. 1. 1. 1. 1. 1. 1. 1. 1. 1. 1.\n",
      " 1. 1. 1. 1. 1. 1. 1. 1. 1. 1. 1. 1. 1. 1. 1. 1. 1. 1. 1. 1. 1. 1. 1. 1.\n",
      " 1. 1. 1. 1. 1. 1. 1. 1. 1. 1. 1. 1. 1. 1. 1. 1. 1. 1. 1. 1. 1. 1. 1. 1.\n",
      " 1. 1. 1. 1. 1. 1. 1. 1. 1. 1. 1. 1. 1. 1. 1. 1. 1. 1. 1. 1.]\n"
     ]
    }
   ],
   "source": [
    "sim = IsingSimulation(n_rois, beta, coupling_mat = True, J=J_max, initial_state=True, state=init_state)\n",
    "print(sim.state)\n",
    "M = []\n",
    "E = []\n",
    "for i in range(eq_steps):\n",
    "    sim.step()\n",
    "    M.append(sim.calcMag())\n",
    "    E.append(sim.calcEnergy())\n",
    "print(sim.state)"
   ]
  },
  {
   "cell_type": "code",
   "execution_count": 75,
   "id": "4ad0de3f",
   "metadata": {},
   "outputs": [
    {
     "data": {
      "text/plain": [
       "[<matplotlib.lines.Line2D at 0x7f9b535bcc10>]"
      ]
     },
     "execution_count": 75,
     "metadata": {},
     "output_type": "execute_result"
    },
    {
     "data": {
      "image/png": "[encoded data removed]",
      "text/plain": [
       "<Figure size 432x288 with 1 Axes>"
      ]
     },
     "metadata": {
      "needs_background": "light"
     },
     "output_type": "display_data"
    }
   ],
   "source": [
    "plt.plot(sim.flips['e'])\n",
    "plt.plot(sim.flips['r'])"
   ]
  },
  {
   "cell_type": "code",
   "execution_count": 76,
   "id": "7f004c70",
   "metadata": {},
   "outputs": [],
   "source": [
    "n_timesteps = 20"
   ]
  },
  {
   "cell_type": "code",
   "execution_count": 77,
   "id": "18f7a7bc",
   "metadata": {},
   "outputs": [
    {
     "name": "stdout",
     "output_type": "stream",
     "text": [
      "-1760.0\n"
     ]
    }
   ],
   "source": [
    "time_series = np.zeros((n_timesteps, n_rois))\n",
    "state = sim.state[:]\n",
    "for i in range(n_timesteps):\n",
    "    state = sim.step(False, state)\n",
    "    time_series[i] = state\n",
    "print(np.sum(time_series))\n",
    "sim_fc = 1/n_timesteps * time_series.T @ time_series "
   ]
  },
  {
   "cell_type": "code",
   "execution_count": 79,
   "id": "faca5c62",
   "metadata": {},
   "outputs": [
    {
     "data": {
      "text/plain": [
       "12819.6"
      ]
     },
     "execution_count": 79,
     "metadata": {},
     "output_type": "execute_result"
    }
   ],
   "source": [
    "np.sum(np.abs(sim_fc))"
   ]
  },
  {
   "cell_type": "code",
   "execution_count": 1,
   "id": "b4d1b639",
   "metadata": {
    "scrolled": true
   },
   "outputs": [
    {
     "ename": "NameError",
     "evalue": "name 'plt' is not defined",
     "output_type": "error",
     "traceback": [
      "\u001b[0;31m---------------------------------------------------------------------------\u001b[0m",
      "\u001b[0;31mNameError\u001b[0m                                 Traceback (most recent call last)",
      "\u001b[0;32m/tmp/ipykernel_501/2176592728.py\u001b[0m in \u001b[0;36m<module>\u001b[0;34m\u001b[0m\n\u001b[0;32m----> 1\u001b[0;31m \u001b[0mplt\u001b[0m\u001b[0;34m.\u001b[0m\u001b[0mplot\u001b[0m\u001b[0;34m(\u001b[0m\u001b[0msim\u001b[0m\u001b[0;34m.\u001b[0m\u001b[0mM\u001b[0m\u001b[0;34m)\u001b[0m\u001b[0;34m\u001b[0m\u001b[0;34m\u001b[0m\u001b[0m\n\u001b[0m",
      "\u001b[0;31mNameError\u001b[0m: name 'plt' is not defined"
     ]
    }
   ],
   "source": [
    "plt.plot(sim.M)"
   ]
  },
  {
   "cell_type": "code",
   "execution_count": 21,
   "id": "f13d8fad",
   "metadata": {},
   "outputs": [
    {
     "data": {
      "text/plain": [
       "array([1, 1, 1, 1, 1, 1, 1, 1, 1, 1, 1, 1, 1, 1, 1, 1, 1, 1, 1, 1, 1, 1,\n",
       "       1, 1, 1, 1, 1, 1, 1, 1, 1, 1, 1, 1, 1, 1, 1, 1, 1, 1, 1, 1, 1, 1,\n",
       "       1, 1, 1, 1, 1, 1, 1, 1, 1, 1, 1, 1, 1, 1, 1, 1, 1, 1, 1, 1, 1, 1,\n",
       "       1, 1, 1, 1, 1, 1, 1, 1, 1, 1, 1, 1, 1, 1, 1, 1, 1, 1, 1, 1, 1, 1,\n",
       "       1, 1, 1, 1, 1, 1, 1, 1, 1, 1, 1, 1, 1, 1, 1, 1, 1, 1, 1, 1, 1, 1,\n",
       "       1, 1, 1, 1, 1, 1])"
      ]
     },
     "execution_count": 21,
     "metadata": {},
     "output_type": "execute_result"
    }
   ],
   "source": [
    "sim.state"
   ]
  },
  {
   "cell_type": "code",
   "execution_count": 34,
   "id": "228e5c78",
   "metadata": {},
   "outputs": [
    {
     "data": {
      "text/plain": [
       "[<matplotlib.lines.Line2D at 0x7f48405d45e0>]"
      ]
     },
     "execution_count": 34,
     "metadata": {},
     "output_type": "execute_result"
    },
    {
     "data": {
      "image/png": "[encoded data removed]",
      "text/plain": [
       "<Figure size 432x288 with 1 Axes>"
      ]
     },
     "metadata": {
      "needs_background": "light"
     },
     "output_type": "display_data"
    }
   ],
   "source": [
    "plt.plot(corr)"
   ]
  },
  {
   "cell_type": "code",
   "execution_count": 58,
   "id": "ce445ef0",
   "metadata": {},
   "outputs": [],
   "source": [
    "def corr_analysis(beta, fc):\n",
    "    J = np.random.uniform(0, 1, size=(n_rois, n_rois))\n",
    "    J = (J + J.T)/2 # making it symmetric\n",
    "    np.fill_diagonal(J, 0)\n",
    "    J_hist, f_hist = gradient_ascent(σ, J, loss, gradient, extra_param=bold_bin, learning_rate=α)\n",
    "    J_max = J_hist[f_hist.index(max(f_hist))]\n",
    "    sim = IsingSimulation(n_rois, beta, coupling_mat = True, J=J_max)\n",
    "    for i in range(eq_steps):\n",
    "        sim.step()\n",
    "    _, sim_fc = sim.getTimeseries(n_timesteps)\n",
    "    c = np.corrcoef(np.triu(fc).flatten(), np.triu(sim_fc).flatten())[0, 1]\n",
    "    return c"
   ]
  },
  {
   "cell_type": "code",
   "execution_count": 59,
   "id": "d70fa735",
   "metadata": {},
   "outputs": [
    {
     "name": "stdout",
     "output_type": "stream",
     "text": [
      "iteration: 0 loss: -125.47640610273376\n",
      "iteration: 10 loss: -69.78260649664865\n",
      "iteration: 20 loss: -48.010261586953774\n",
      "iteration: 30 loss: -38.51514916371152\n",
      "iteration: 40 loss: -32.807133888601776\n",
      "iteration: 50 loss: -28.789817912803986\n",
      "iteration: 60 loss: -25.73897638222778\n",
      "iteration: 70 loss: -23.314915753229\n",
      "iteration: 80 loss: -21.328884448760878\n",
      "iteration: 90 loss: -19.66487780554901\n",
      "iteration: 100 loss: -18.246531380658297\n",
      "iteration: 110 loss: -17.020959443579176\n",
      "iteration: 120 loss: -15.95007250460983\n",
      "iteration: 130 loss: -15.005568862721349\n",
      "iteration: 140 loss: -14.165879294481709\n",
      "iteration: 150 loss: -13.414216575140259\n",
      "iteration: 160 loss: -12.737282431113421\n",
      "iteration: 170 loss: -12.124382592397357\n",
      "iteration: 180 loss: -11.566804439188413\n",
      "iteration: 190 loss: -11.057368925434497\n",
      "iteration: 200 loss: -10.59010132094494\n",
      "iteration: 210 loss: -10.159984896645478\n",
      "iteration: 220 loss: -9.762773728618301\n",
      "iteration: 230 loss: -9.39484842624069\n",
      "iteration: 240 loss: -9.053103544131456\n",
      "iteration: 250 loss: -8.7348587289826\n",
      "iteration: 260 loss: -8.437787884325653\n",
      "iteration: 270 loss: -8.159862178411217\n",
      "iteration: 280 loss: -7.8993038040773955\n",
      "iteration: 290 loss: -7.654548172954919\n",
      "iteration: 300 loss: -7.424212786240509\n",
      "iteration: 310 loss: -7.207071434852229\n",
      "iteration: 320 loss: -7.002032686464914\n",
      "iteration: 330 loss: -6.808121845506767\n",
      "iteration: 340 loss: -6.624465745422083\n",
      "iteration: 350 loss: -6.450279865018516\n",
      "iteration: 360 loss: -6.284857362931113\n",
      "iteration: 370 loss: -6.127559703770518\n",
      "iteration: 380 loss: -5.977808611800875\n",
      "iteration: 390 loss: -5.835079137181273\n",
      "iteration: 400 loss: -5.698893658835747\n",
      "iteration: 410 loss: -5.568816679247494\n",
      "iteration: 420 loss: -5.444450291541624\n",
      "iteration: 430 loss: -5.325430219515158\n",
      "iteration: 440 loss: -5.211422347744757\n",
      "iteration: 450 loss: -5.10211967236096\n",
      "iteration: 460 loss: -4.9972396141128765\n",
      "iteration: 470 loss: -4.896521644442907\n",
      "iteration: 480 loss: -4.799725182826422\n",
      "iteration: 490 loss: -4.706627729877125\n",
      "iteration: 500 loss: -4.6170232059374365\n",
      "iteration: 510 loss: -4.53072046925519\n",
      "iteration: 520 loss: -4.447541991496406\n",
      "iteration: 530 loss: -4.367322671458354\n",
      "iteration: 540 loss: -4.289908770458707\n",
      "iteration: 550 loss: -4.2151569550882115\n",
      "iteration: 560 loss: -4.142933434922994\n",
      "iteration: 570 loss: -4.073113184392074\n",
      "iteration: 580 loss: -4.005579239381887\n",
      "iteration: 590 loss: -3.940222060345911\n",
      "iteration: 600 loss: -3.876938954705779\n",
      "iteration: 610 loss: -3.8156335522134937\n",
      "iteration: 620 loss: -3.7562153276983143\n",
      "iteration: 630 loss: -3.698599166290905\n",
      "iteration: 640 loss: -3.6427049667861273\n",
      "iteration: 650 loss: -3.5884572792971197\n",
      "iteration: 660 loss: -3.5357849738072162\n",
      "iteration: 670 loss: -3.484620936583696\n",
      "iteration: 680 loss: -3.4349017917721003\n",
      "iteration: 690 loss: -3.3865676457657434\n",
      "iteration: 700 loss: -3.339561852215634\n",
      "iteration: 710 loss: -3.293830795760613\n",
      "iteration: 720 loss: -3.2493236927670925\n",
      "iteration: 730 loss: -3.2059924075416273\n",
      "iteration: 740 loss: -3.163791282631383\n",
      "iteration: 750 loss: -3.1226769819761326\n",
      "iteration: 760 loss: -3.082608345787423\n",
      "iteration: 770 loss: -3.043546256151544\n",
      "iteration: 780 loss: -3.0054535124416324\n",
      "iteration: 790 loss: -2.9682947157161093\n",
      "iteration: 800 loss: -2.932036161358508\n",
      "iteration: 810 loss: -2.8966457392825573\n",
      "iteration: 820 loss: -2.8620928410895132\n",
      "iteration: 830 loss: -2.8283482736167533\n",
      "iteration: 840 loss: -2.7953841783781135\n",
      "iteration: 850 loss: -2.7631739564265962\n",
      "iteration: 860 loss: -2.731692198225165\n",
      "iteration: 870 loss: -2.7009146181360255\n",
      "iteration: 880 loss: -2.670817993182231\n",
      "iteration: 890 loss: -2.641380105758873\n",
      "iteration: 900 loss: -2.6125796900017733\n",
      "iteration: 910 loss: -2.5843963815417625\n",
      "iteration: 920 loss: -2.5568106704012075\n",
      "iteration: 930 loss: -2.5298038568064523\n",
      "iteration: 940 loss: -2.5033580097055794\n",
      "iteration: 950 loss: -2.477455927804209\n",
      "iteration: 960 loss: -2.452081102937548\n",
      "iteration: 970 loss: -2.4272176856256733\n",
      "iteration: 980 loss: -2.4028504526531647\n",
      "iteration: 990 loss: -2.378964776542489\n",
      "-266.0\n"
     ]
    },
    {
     "data": {
      "text/plain": [
       "0.9100722069029769"
      ]
     },
     "execution_count": 59,
     "metadata": {},
     "output_type": "execute_result"
    }
   ],
   "source": [
    "corr_analysis(0.1, fc)"
   ]
  },
  {
   "cell_type": "code",
   "execution_count": 101,
   "id": "370cbdb9",
   "metadata": {},
   "outputs": [],
   "source": [
    "fc = 1/n_timesteps * bold_bin.T @ bold_bin\n",
    "results = Parallel(n_jobs=8)(delayed(corr_analysis)(i, fc) for i in np.linspace(0, 4, 20))"
   ]
  },
  {
   "cell_type": "code",
   "execution_count": 103,
   "id": "780bbadb",
   "metadata": {},
   "outputs": [
    {
     "data": {
      "text/plain": [
       "[<matplotlib.lines.Line2D at 0x7f6c6f2f3760>]"
      ]
     },
     "execution_count": 103,
     "metadata": {},
     "output_type": "execute_result"
    },
    {
     "data": {
      "image/png": "[encoded data removed]",
      "text/plain": [
       "<Figure size 432x288 with 1 Axes>"
      ]
     },
     "metadata": {
      "needs_background": "light"
     },
     "output_type": "display_data"
    },
    {
     "name": "stdout",
     "output_type": "stream",
     "text": [
      "iteration: 0 loss: -1143.8887577835264\n",
      "iteration: 10 loss: -1089.3616006768607\n",
      "iteration: 20 loss: -1040.1259801254557\n",
      "iteration: 30 loss: -995.8901156940434\n",
      "iteration: 40 loss: -955.2442266969058\n",
      "iteration: 50 loss: -918.6159374310795\n",
      "iteration: 60 loss: -886.6750608890139\n",
      "iteration: 70 loss: -859.74050046945\n",
      "iteration: 80 loss: -837.8430885356095\n",
      "iteration: 90 loss: -820.971252323633\n",
      "iteration: 100 loss: -809.2235321918542\n",
      "iteration: 110 loss: -802.9051383570652\n",
      "iteration: 120 loss: -802.120856062984\n",
      "iteration: 130 loss: -806.2758234974267\n",
      "iteration: 140 loss: -814.6786100371173\n",
      "iteration: 150 loss: -827.0957809513236\n",
      "iteration: 160 loss: -843.3254045897955\n",
      "iteration: 170 loss: -863.2205846839307\n",
      "iteration: 180 loss: -886.2824494032145\n",
      "iteration: 190 loss: -911.8789365251874\n",
      "iteration: 0 loss: -1146.6466992878509\n",
      "iteration: 10 loss: -1091.7581161724017\n",
      "iteration: 20 loss: -1041.9534429832092\n",
      "iteration: 30 loss: -997.0143001417274\n",
      "iteration: 40 loss: -955.9968040366158\n",
      "iteration: 50 loss: -919.0158235743097\n",
      "iteration: 60 loss: -886.8184987527488\n",
      "iteration: 70 loss: -859.7003693487222\n",
      "iteration: 80 loss: -837.4132456095017\n",
      "iteration: 90 loss: -820.1367393657209\n",
      "iteration: 100 loss: -808.1260944245349\n",
      "iteration: 110 loss: -801.4455195682648\n",
      "iteration: 120 loss: -800.0919350652384\n",
      "iteration: 130 loss: -803.5548430808683\n",
      "iteration: 140 loss: -811.4217828268679\n",
      "iteration: 150 loss: -823.4738286030065\n",
      "iteration: 160 loss: -839.4918482048602\n",
      "iteration: 170 loss: -859.3601944415295\n",
      "iteration: 180 loss: -882.4162016455549\n",
      "iteration: 190 loss: -907.9980281020407\n",
      "iteration: 0 loss: -1163.3607706762741\n",
      "iteration: 10 loss: -1108.332208888519\n",
      "iteration: 20 loss: -1058.4276528640498\n",
      "iteration: 30 loss: -1013.745326392232\n",
      "iteration: 40 loss: -972.7028865984636\n",
      "iteration: 50 loss: -935.4250049669954\n",
      "iteration: 60 loss: -902.7532299241976\n",
      "iteration: 70 loss: -874.8351657272258\n",
      "iteration: 80 loss: -851.6250122804412\n",
      "iteration: 90 loss: -833.3416222708697\n",
      "iteration: 100 loss: -820.2973592432379\n",
      "iteration: 110 loss: -812.6599718418956\n",
      "iteration: 120 loss: -810.3836984237308\n",
      "iteration: 130 loss: -813.0165837984414\n",
      "iteration: 140 loss: -820.1249688719165\n",
      "iteration: 150 loss: -831.56177245495\n",
      "iteration: 160 loss: -847.1810257969173\n",
      "iteration: 170 loss: -866.6247456540389\n",
      "iteration: 180 loss: -889.1948355705449\n",
      "iteration: 190 loss: -914.2664348933694\n",
      "iteration: 0 loss: -1162.487675778482\n",
      "iteration: 10 loss: -1107.7044669549664\n",
      "iteration: 20 loss: -1057.7200875113037\n",
      "iteration: 30 loss: -1012.8222331653179\n",
      "iteration: 40 loss: -971.6538232772165\n",
      "iteration: 50 loss: -934.4481643118744\n",
      "iteration: 60 loss: -901.8437639566127\n",
      "iteration: 70 loss: -874.2161706178672\n",
      "iteration: 80 loss: -851.5885818342813\n",
      "iteration: 90 loss: -834.100723858019\n",
      "iteration: 100 loss: -821.7760735599995\n",
      "iteration: 110 loss: -814.6721989548012\n",
      "iteration: 120 loss: -812.9095167890248\n",
      "iteration: 130 loss: -816.004968418832\n",
      "iteration: 140 loss: -823.5270235211102\n",
      "iteration: 150 loss: -835.2688743228505\n",
      "iteration: 160 loss: -851.0292041385629\n",
      "iteration: 170 loss: -870.4208299070731\n",
      "iteration: 180 loss: -892.9258811559569\n",
      "iteration: 190 loss: -917.9604971043639\n",
      "iteration: 0 loss: -1157.5391892328755\n",
      "iteration: 10 loss: -1102.7979247194996\n",
      "iteration: 20 loss: -1053.0066246772583\n",
      "iteration: 30 loss: -1008.0160185128979\n",
      "iteration: 40 loss: -966.6293400726884\n",
      "iteration: 50 loss: -929.216952404715\n",
      "iteration: 60 loss: -896.3834144835836\n",
      "iteration: 70 loss: -868.4674596109408\n",
      "iteration: 80 loss: -845.6832109491968\n",
      "iteration: 90 loss: -828.0286609265482\n",
      "iteration: 100 loss: -815.5663245415632\n",
      "iteration: 110 loss: -808.4330700692666\n",
      "iteration: 120 loss: -806.7328742568043\n",
      "iteration: 130 loss: -809.8833022545864\n",
      "iteration: 140 loss: -817.1778322988049\n",
      "iteration: 150 loss: -828.4715864644312\n",
      "iteration: 160 loss: -843.8532719092304\n",
      "iteration: 170 loss: -863.0811820296082\n",
      "iteration: 180 loss: -885.4877259279119\n",
      "iteration: 190 loss: -910.496420760089\n",
      "iteration: 0 loss: -1164.278951939975\n",
      "iteration: 10 loss: -1109.1915268186644\n",
      "iteration: 20 loss: -1058.8521741509833\n",
      "iteration: 30 loss: -1013.6732887226071\n",
      "iteration: 40 loss: -972.40456839469\n",
      "iteration: 50 loss: -935.1800853457097\n",
      "iteration: 60 loss: -902.4738480116046\n",
      "iteration: 70 loss: -874.4196502197209\n",
      "iteration: 80 loss: -851.1443442835118\n",
      "iteration: 90 loss: -832.8488775023404\n",
      "iteration: 100 loss: -819.6282843272513\n",
      "iteration: 110 loss: -811.7315557871451\n",
      "iteration: 120 loss: -809.2434162014076\n",
      "iteration: 130 loss: -811.9968613387556\n",
      "iteration: 140 loss: -819.37486608993\n",
      "iteration: 150 loss: -830.9301345669727\n",
      "iteration: 160 loss: -846.5293025710134\n",
      "iteration: 170 loss: -865.8301696044014\n",
      "iteration: 180 loss: -888.2416259502405\n",
      "iteration: 190 loss: -913.1742146511156\n",
      "iteration: 0 loss: -1162.3482242309155\n",
      "iteration: 10 loss: -1107.2140920415727\n",
      "iteration: 20 loss: -1056.9238164754959\n",
      "iteration: 30 loss: -1011.608340125335\n",
      "iteration: 40 loss: -970.2249496446118\n",
      "iteration: 50 loss: -932.9008540585373\n",
      "iteration: 60 loss: -900.0513853499579\n",
      "iteration: 70 loss: -872.1168190278511\n",
      "iteration: 80 loss: -849.1862972905801\n",
      "iteration: 90 loss: -831.3375450626553\n",
      "iteration: 100 loss: -818.6217056876857\n",
      "iteration: 110 loss: -811.2000950963256\n",
      "iteration: 120 loss: -809.1251453939534\n",
      "iteration: 130 loss: -812.0969353245677\n",
      "iteration: 140 loss: -819.7176431362079\n",
      "iteration: 150 loss: -831.5866269042157\n",
      "iteration: 160 loss: -847.4525748893036\n",
      "iteration: 170 loss: -866.8482172978067\n",
      "iteration: 180 loss: -889.2146219666213\n",
      "iteration: 190 loss: -914.0713233812876\n",
      "iteration: 0 loss: -1178.979136861128\n",
      "iteration: 10 loss: -1123.871287120861\n",
      "iteration: 20 loss: -1073.6599001446532\n",
      "iteration: 30 loss: -1028.4590390425212\n",
      "iteration: 40 loss: -987.1130087827221\n",
      "iteration: 50 loss: -949.6175683129089\n",
      "iteration: 60 loss: -916.4862113756609\n",
      "iteration: 70 loss: -888.0074378582314\n",
      "iteration: 80 loss: -864.3167618688673\n",
      "iteration: 90 loss: -845.608139758423\n",
      "iteration: 100 loss: -832.1506867305343\n",
      "iteration: 110 loss: -824.0775616696424\n",
      "iteration: 120 loss: -821.2204560585307\n",
      "iteration: 130 loss: -823.258723863747\n",
      "iteration: 140 loss: -829.7260786934698\n",
      "iteration: 150 loss: -840.3202265419559\n",
      "iteration: 160 loss: -854.9289474822251\n",
      "iteration: 170 loss: -873.4411557534844\n",
      "iteration: 180 loss: -895.2801171350872\n",
      "iteration: 190 loss: -919.747705427888\n",
      "iteration: 0 loss: -1145.8066641682242\n",
      "iteration: 10 loss: -1091.0807185181095\n",
      "iteration: 20 loss: -1041.486501010629\n",
      "iteration: 30 loss: -997.0561485402638\n",
      "iteration: 40 loss: -956.2375707586316\n",
      "iteration: 50 loss: -919.364693752149\n",
      "iteration: 60 loss: -887.0354822193955\n",
      "iteration: 70 loss: -859.5538694676831\n",
      "iteration: 80 loss: -837.0477292173018\n",
      "iteration: 90 loss: -819.5353830468856\n",
      "iteration: 100 loss: -807.1746922187176\n",
      "iteration: 110 loss: -800.2500003453853\n",
      "iteration: 120 loss: -798.726984801731\n",
      "iteration: 130 loss: -802.2516562252757\n",
      "iteration: 140 loss: -810.3315302921175\n",
      "iteration: 150 loss: -822.6747583391294\n",
      "iteration: 160 loss: -839.1271044482253\n",
      "iteration: 170 loss: -859.3398756901647\n",
      "iteration: 180 loss: -882.5250231267568\n",
      "iteration: 190 loss: -908.1046723265076\n",
      "iteration: 0 loss: -1158.7328164096718\n",
      "iteration: 10 loss: -1103.9387983499457\n",
      "iteration: 20 loss: -1054.1644931388325\n",
      "iteration: 30 loss: -1009.4281190086022\n",
      "iteration: 40 loss: -968.3993756309192\n",
      "iteration: 50 loss: -931.2365839415493\n",
      "iteration: 60 loss: -898.663610311895\n",
      "iteration: 70 loss: -871.1414416182622\n",
      "iteration: 80 loss: -848.5388052811492\n",
      "iteration: 90 loss: -830.9140822989746\n",
      "iteration: 100 loss: -818.3170254796632\n",
      "iteration: 110 loss: -810.8494752138404\n",
      "iteration: 120 loss: -808.7179741718603\n",
      "iteration: 130 loss: -811.6835227763169\n",
      "iteration: 140 loss: -819.2060565594617\n",
      "iteration: 150 loss: -830.8882772963815\n",
      "iteration: 160 loss: -846.5772431088848\n",
      "iteration: 170 loss: -865.9742165462088\n",
      "iteration: 180 loss: -888.5795498226802\n",
      "iteration: 190 loss: -913.7528669072336\n",
      "iteration: 0 loss: -1165.200097432167\n",
      "iteration: 10 loss: -1110.7202608520417\n",
      "iteration: 20 loss: -1061.1690017586716\n",
      "iteration: 30 loss: -1016.5247505912703\n",
      "iteration: 40 loss: -975.707018888258\n",
      "iteration: 50 loss: -938.7228966204026\n",
      "iteration: 60 loss: -906.2629742071526\n",
      "iteration: 70 loss: -878.727991590778\n",
      "iteration: 80 loss: -856.3113030955458\n",
      "iteration: 90 loss: -838.8337957354317\n",
      "iteration: 100 loss: -826.359444725485\n",
      "iteration: 110 loss: -819.1024740856715\n",
      "iteration: 120 loss: -817.2925368110855\n",
      "iteration: 130 loss: -820.4368290149688\n",
      "iteration: 140 loss: -827.91916031495\n",
      "iteration: 150 loss: -839.4449202781745\n",
      "iteration: 160 loss: -854.9293858363149\n",
      "iteration: 170 loss: -874.0765533630592\n",
      "iteration: 180 loss: -896.3612823784915\n",
      "iteration: 190 loss: -921.2364119120475\n"
     ]
    },
    {
     "name": "stdout",
     "output_type": "stream",
     "text": [
      "iteration: 0 loss: -1159.8304830411548\n",
      "iteration: 10 loss: -1104.85209669457\n",
      "iteration: 20 loss: -1054.7262175375342\n",
      "iteration: 30 loss: -1009.6921018226961\n",
      "iteration: 40 loss: -968.5495823448146\n",
      "iteration: 50 loss: -931.418351560325\n",
      "iteration: 60 loss: -898.9063624508615\n",
      "iteration: 70 loss: -871.4868297118242\n",
      "iteration: 80 loss: -849.420620517278\n",
      "iteration: 90 loss: -832.6117974565235\n",
      "iteration: 100 loss: -820.8725226335893\n",
      "iteration: 110 loss: -814.3262397684437\n",
      "iteration: 120 loss: -813.1305141790871\n",
      "iteration: 130 loss: -816.6625723054453\n",
      "iteration: 140 loss: -824.4436714794065\n",
      "iteration: 150 loss: -836.3841599962301\n",
      "iteration: 160 loss: -852.3882009243067\n",
      "iteration: 170 loss: -872.040233156782\n",
      "iteration: 180 loss: -894.7851573867899\n",
      "iteration: 190 loss: -920.144562602166\n",
      "iteration: 0 loss: -1169.9497124917793\n",
      "iteration: 10 loss: -1115.002309743749\n",
      "iteration: 20 loss: -1064.7561592227557\n",
      "iteration: 30 loss: -1019.7637165812481\n",
      "iteration: 40 loss: -978.3748606211097\n",
      "iteration: 50 loss: -940.9421054785198\n",
      "iteration: 60 loss: -908.058667262494\n",
      "iteration: 70 loss: -880.1107772284042\n",
      "iteration: 80 loss: -857.2581462873733\n",
      "iteration: 90 loss: -839.3983970910765\n",
      "iteration: 100 loss: -826.6516643742557\n",
      "iteration: 110 loss: -819.1293040810579\n",
      "iteration: 120 loss: -816.8167435927764\n",
      "iteration: 130 loss: -819.4350011160963\n",
      "iteration: 140 loss: -826.5481637101178\n",
      "iteration: 150 loss: -837.7914959362286\n",
      "iteration: 160 loss: -853.0000888289793\n",
      "iteration: 170 loss: -871.9612622219153\n",
      "iteration: 180 loss: -894.1674744034948\n",
      "iteration: 190 loss: -918.9778515811513\n",
      "iteration: 0 loss: -1175.411374594219\n",
      "iteration: 10 loss: -1120.8907417422881\n",
      "iteration: 20 loss: -1071.3952777572142\n",
      "iteration: 30 loss: -1026.7427357211914\n",
      "iteration: 40 loss: -985.6190429081762\n",
      "iteration: 50 loss: -948.336920555697\n",
      "iteration: 60 loss: -915.4783205588429\n",
      "iteration: 70 loss: -887.4275000066691\n",
      "iteration: 80 loss: -864.3012564571628\n",
      "iteration: 90 loss: -846.1526299998027\n",
      "iteration: 100 loss: -832.9831816778027\n",
      "iteration: 110 loss: -824.943815822211\n",
      "iteration: 120 loss: -822.063836636415\n",
      "iteration: 130 loss: -824.2120782002874\n",
      "iteration: 140 loss: -830.9566664551095\n",
      "iteration: 150 loss: -841.9992706575318\n",
      "iteration: 160 loss: -857.0797627258797\n",
      "iteration: 170 loss: -875.9124413211263\n",
      "iteration: 180 loss: -897.9753123024655\n",
      "iteration: 190 loss: -922.6952736726134\n",
      "iteration: 0 loss: -1149.8301855473298\n",
      "iteration: 10 loss: -1094.854106024452\n",
      "iteration: 20 loss: -1045.1221158180088\n",
      "iteration: 30 loss: -1000.5349357431352\n",
      "iteration: 40 loss: -959.5866284208226\n",
      "iteration: 50 loss: -922.4113312126835\n",
      "iteration: 60 loss: -889.6561893816112\n",
      "iteration: 70 loss: -861.9247687076273\n",
      "iteration: 80 loss: -839.3703040331935\n",
      "iteration: 90 loss: -822.1316115524202\n",
      "iteration: 100 loss: -810.1217284244684\n",
      "iteration: 110 loss: -803.3369357859798\n",
      "iteration: 120 loss: -801.9476997136783\n",
      "iteration: 130 loss: -805.4238734320899\n",
      "iteration: 140 loss: -813.1749573718956\n",
      "iteration: 150 loss: -825.0125882942687\n",
      "iteration: 160 loss: -840.9136034985786\n",
      "iteration: 170 loss: -860.5710877978825\n",
      "iteration: 180 loss: -883.2877241113122\n",
      "iteration: 190 loss: -908.5206789165051\n",
      "iteration: 0 loss: -1150.3978885822826\n",
      "iteration: 10 loss: -1095.4407394200264\n",
      "iteration: 20 loss: -1045.3545357903745\n",
      "iteration: 30 loss: -1000.4546077259978\n",
      "iteration: 40 loss: -959.2028734839319\n",
      "iteration: 50 loss: -922.0822456752767\n",
      "iteration: 60 loss: -889.7376473011318\n",
      "iteration: 70 loss: -862.4412049684624\n",
      "iteration: 80 loss: -840.1882943900879\n",
      "iteration: 90 loss: -822.9912631729874\n",
      "iteration: 100 loss: -810.8491145051047\n",
      "iteration: 110 loss: -803.7867706931002\n",
      "iteration: 120 loss: -801.8779900205658\n",
      "iteration: 130 loss: -805.0070430298917\n",
      "iteration: 140 loss: -812.8112215394711\n",
      "iteration: 150 loss: -824.8710705522462\n",
      "iteration: 160 loss: -841.0684813200588\n",
      "iteration: 170 loss: -861.1454814879199\n",
      "iteration: 180 loss: -884.4218688906822\n",
      "iteration: 190 loss: -910.2125152384631\n",
      "iteration: 0 loss: -1155.9599343215514\n",
      "iteration: 10 loss: -1101.030538656161\n",
      "iteration: 20 loss: -1050.7728264695052\n",
      "iteration: 30 loss: -1005.6029291849705\n",
      "iteration: 40 loss: -964.2425430094388\n",
      "iteration: 50 loss: -926.885805482416\n",
      "iteration: 60 loss: -894.1181593288817\n",
      "iteration: 70 loss: -866.2556608723912\n",
      "iteration: 80 loss: -843.1193434010772\n",
      "iteration: 90 loss: -824.8539149879135\n",
      "iteration: 100 loss: -811.799699032984\n",
      "iteration: 110 loss: -804.1783062694021\n",
      "iteration: 120 loss: -802.0536296772596\n",
      "iteration: 130 loss: -804.9828119965873\n",
      "iteration: 140 loss: -812.2557548567469\n",
      "iteration: 150 loss: -823.5842681070083\n",
      "iteration: 160 loss: -839.0300425733021\n",
      "iteration: 170 loss: -858.3424902790895\n",
      "iteration: 180 loss: -880.801715773884\n",
      "iteration: 190 loss: -905.7997803461267\n",
      "iteration: 0 loss: -1164.2563213069086\n",
      "iteration: 10 loss: -1109.7838461309268\n",
      "iteration: 20 loss: -1060.609153538603\n",
      "iteration: 30 loss: -1016.3731918735347\n",
      "iteration: 40 loss: -975.6610952157264\n",
      "iteration: 50 loss: -938.6094069087354\n",
      "iteration: 60 loss: -905.8261967307963\n",
      "iteration: 70 loss: -877.8734978925487\n",
      "iteration: 80 loss: -854.9247813777241\n",
      "iteration: 90 loss: -837.1402855140194\n",
      "iteration: 100 loss: -824.7656341075513\n",
      "iteration: 110 loss: -817.6748929290343\n",
      "iteration: 120 loss: -815.9380479216717\n",
      "iteration: 130 loss: -819.2796139764599\n",
      "iteration: 140 loss: -826.9300735301779\n",
      "iteration: 150 loss: -838.4526860613845\n",
      "iteration: 160 loss: -853.8706485619207\n",
      "iteration: 170 loss: -873.1127738039139\n",
      "iteration: 180 loss: -895.5506058580023\n",
      "iteration: 190 loss: -920.490192296938\n",
      "iteration: 0 loss: -1170.5828596389551\n",
      "iteration: 10 loss: -1115.3765522137355\n",
      "iteration: 20 loss: -1064.6494620821436\n",
      "iteration: 30 loss: -1018.9240791290154\n",
      "iteration: 40 loss: -976.9353507660417\n",
      "iteration: 50 loss: -938.8326816646869\n",
      "iteration: 60 loss: -905.2969434994744\n",
      "iteration: 70 loss: -876.7834442459726\n",
      "iteration: 80 loss: -853.2608398056416\n",
      "iteration: 90 loss: -834.9185215073358\n",
      "iteration: 100 loss: -821.719144504392\n",
      "iteration: 110 loss: -813.6226651107548\n",
      "iteration: 120 loss: -810.9440118038087\n",
      "iteration: 130 loss: -813.5323279459013\n",
      "iteration: 140 loss: -820.721165939957\n",
      "iteration: 150 loss: -831.8956209399173\n",
      "iteration: 160 loss: -847.0106207755657\n",
      "iteration: 170 loss: -865.9953650887509\n",
      "iteration: 180 loss: -888.3486526896352\n",
      "iteration: 190 loss: -913.3719256097129\n",
      "iteration: 0 loss: -1161.653223020965\n",
      "iteration: 10 loss: -1106.4770071529936\n",
      "iteration: 20 loss: -1055.9538728098746\n",
      "iteration: 30 loss: -1010.5803935439492\n",
      "iteration: 40 loss: -968.9926330080091\n",
      "iteration: 50 loss: -931.4413525143857\n",
      "iteration: 60 loss: -898.5092002831825\n",
      "iteration: 70 loss: -870.5978601902688\n",
      "iteration: 80 loss: -847.6478170519046\n",
      "iteration: 90 loss: -829.7593710891078\n",
      "iteration: 100 loss: -817.0346097801845\n",
      "iteration: 110 loss: -809.7525264617947\n",
      "iteration: 120 loss: -807.762413754631\n",
      "iteration: 130 loss: -810.6816583923534\n",
      "iteration: 140 loss: -818.0821342890972\n",
      "iteration: 150 loss: -829.6059410726439\n",
      "iteration: 160 loss: -845.0883809276794\n",
      "iteration: 170 loss: -864.3376299445129\n",
      "iteration: 180 loss: -886.836960220397\n",
      "iteration: 190 loss: -911.9747118962329\n"
     ]
    }
   ],
   "source": [
    "plt.plot(np.linspace(0, 4, 20), results)"
   ]
  },
  {
   "cell_type": "code",
   "execution_count": 21,
   "id": "4d8f2e67",
   "metadata": {
    "scrolled": true
   },
   "outputs": [
    {
     "data": {
      "text/plain": [
       "0.35449635313285105"
      ]
     },
     "execution_count": 21,
     "metadata": {},
     "output_type": "execute_result"
    }
   ],
   "source": [
    "time_series, sim_fc = sim.getTimeseries(n_timesteps)\n",
    "c = np.corrcoef(np.triu(fc).flatten(), np.triu(J_hist[-2]).flatten())[0, 1]"
   ]
  },
  {
   "cell_type": "code",
   "execution_count": null,
   "id": "acfdbaa7",
   "metadata": {},
   "outputs": [],
   "source": [
    "E = []\n",
    "# for T in np.linspace(1.53, 3.28, 2):\n",
    "beta = 1\n",
    "sim = IsingSimulation(n_rois, beta, coupling_mat = True, J=fc)\n",
    "n_timesteps = 116\n",
    "E1 = M1 = E2 = M2 = 0\n",
    "M = []\n",
    "corr = []\n",
    "for i in range(eqSteps):         # equilibrate\n",
    "    if i%1000 == 0:\n",
    "        print(i)\n",
    "        time_series, sim_fc = sim.getTimeseries(n_timesteps)\n",
    "        c = np.corrcoef(np.triu(fc).flatten(), np.triu(sim_fc).flatten())[0, 1]\n",
    "        corr.append(c)\n",
    "    sim.step()           # Monte Carlo moves\n",
    "    E.append(sim.calcEnergy())\n",
    "    M.append(sim.calcMag())\n",
    "plt.plot(corr)"
   ]
  },
  {
   "cell_type": "code",
   "execution_count": 57,
   "id": "ded438f2",
   "metadata": {},
   "outputs": [
    {
     "data": {
      "text/plain": [
       "[<matplotlib.lines.Line2D at 0x7fb3799bb9d0>]"
      ]
     },
     "execution_count": 57,
     "metadata": {},
     "output_type": "execute_result"
    },
    {
     "data": {
      "image/png": "[encoded data removed]",
      "text/plain": [
       "<Figure size 432x288 with 1 Axes>"
      ]
     },
     "metadata": {
      "needs_background": "light"
     },
     "output_type": "display_data"
    }
   ],
   "source": [
    "corr = []\n",
    "for i in J_hist:\n",
    "#     corr.append(loss(i, bold_bin))\n",
    "    c = np.corrcoef(np.triu(fc).flatten(), np.triu(i).flatten())[0, 1]\n",
    "    corr.append(c)\n",
    "plt.plot(corr)"
   ]
  },
  {
   "cell_type": "code",
   "execution_count": 35,
   "id": "06d1fa73",
   "metadata": {
    "scrolled": true
   },
   "outputs": [
    {
     "name": "stdout",
     "output_type": "stream",
     "text": [
      "(116, 116)\n"
     ]
    },
    {
     "data": {
      "text/plain": [
       "array([[ 0.63941434,  0.91259763, -1.38667675, ...,  0.97732562,\n",
       "        -1.271148  ,  0.80478887],\n",
       "       [ 0.64981318,  0.88304238, -1.42149644, ...,  0.96666799,\n",
       "        -1.29400744,  0.7888905 ],\n",
       "       [-1.31800438, -1.07956325,  0.5649875 , ..., -1.07396037,\n",
       "         0.73111962, -1.24096553],\n",
       "       ...,\n",
       "       [ 0.67193944,  0.92389227, -1.4235992 , ...,  0.91572338,\n",
       "        -1.25441529,  0.77278526],\n",
       "       [-1.31786791, -1.09330758,  0.5459214 , ..., -1.0628717 ,\n",
       "         0.69546654, -1.24872447],\n",
       "       [ 0.65624307,  0.9102043 , -1.43025217, ...,  0.93631531,\n",
       "        -1.26470871,  0.73094612]])"
      ]
     },
     "execution_count": 35,
     "metadata": {},
     "output_type": "execute_result"
    }
   ],
   "source": [
    "J = np.random.uniform(0, 1, size=(n_rois, n_rois))\n",
    "J = (J + J.T)/2 # making it symmetric\n",
    "np.fill_diagonal(J, 1)\n",
    "gradient(J, bold_bin)"
   ]
  },
  {
   "cell_type": "code",
   "execution_count": null,
   "id": "77307f8d",
   "metadata": {},
   "outputs": [],
   "source": []
  }
 ],
 "metadata": {
  "kernelspec": {
   "display_name": "Python 3.9.7 ('brain')",
   "language": "python",
   "name": "python3"
  },
  "language_info": {
   "codemirror_mode": {
    "name": "ipython",
    "version": 3
   },
   "file_extension": ".py",
   "mimetype": "text/x-python",
   "name": "python",
   "nbconvert_exporter": "python",
   "pygments_lexer": "ipython3",
   "version": "3.9.7"
  },
  "vscode": {
   "interpreter": {
    "hash": "5ad3f1a215440f9155109064f773e6e59d1d6c6675c677d01728458ca0d08c94"
   }
  }
 },
 "nbformat": 4,
 "nbformat_minor": 5
}
