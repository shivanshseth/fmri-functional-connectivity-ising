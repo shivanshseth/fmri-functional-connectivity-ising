{
 "cells": [
  {
   "cell_type": "code",
   "execution_count": 1,
   "id": "f298ebbd",
   "metadata": {},
   "outputs": [],
   "source": [
    "import numpy as np\n",
    "import matplotlib.pyplot as plt\n",
    "from scripts.simple_ising import IsingSimulation"
   ]
  },
  {
   "cell_type": "code",
   "execution_count": 2,
   "id": "8842030e",
   "metadata": {},
   "outputs": [],
   "source": [
    "bold = np.loadtxt('../data/50003_timeseries.txt')\n",
    "n_rois = bold.shape[1]\n",
    "n_timesteps = bold.shape[0]"
   ]
  },
  {
   "cell_type": "code",
   "execution_count": 10,
   "id": "4976a038",
   "metadata": {},
   "outputs": [],
   "source": [
    "beta = 1\n",
    "L = 200\n",
    "sim_timesteps = 200\n",
    "eq_steps = 100"
   ]
  },
  {
   "cell_type": "code",
   "execution_count": 11,
   "id": "b5bfa133",
   "metadata": {},
   "outputs": [],
   "source": [
    "fc = 1/n_timesteps * bold.T @ bold"
   ]
  },
  {
   "cell_type": "code",
   "execution_count": null,
   "id": "c0843dba",
   "metadata": {},
   "outputs": [
    {
     "name": "stdout",
     "output_type": "stream",
     "text": [
      "0\n",
      "1\n",
      "2\n",
      "3\n",
      "4\n",
      "5\n",
      "6\n",
      "7\n",
      "8\n",
      "9\n",
      "10\n",
      "11\n",
      "12\n",
      "13\n",
      "14\n",
      "15\n",
      "16\n",
      "17\n",
      "18\n",
      "19\n",
      "20\n",
      "21\n",
      "22\n",
      "23\n",
      "24\n",
      "25\n",
      "26\n",
      "27\n",
      "28\n",
      "29\n",
      "30\n",
      "31\n",
      "32\n",
      "33\n",
      "34\n",
      "35\n",
      "36\n",
      "37\n",
      "38\n",
      "39\n",
      "40\n",
      "41\n",
      "42\n",
      "43\n",
      "44\n",
      "45\n",
      "46\n",
      "47\n",
      "48\n",
      "49\n",
      "50\n",
      "51\n",
      "52\n",
      "53\n",
      "54\n",
      "55\n",
      "56\n",
      "57\n",
      "58\n",
      "59\n",
      "60\n",
      "61\n",
      "62\n",
      "63\n",
      "64\n",
      "65\n",
      "66\n",
      "67\n",
      "68\n",
      "69\n",
      "70\n",
      "71\n",
      "72\n",
      "73\n"
     ]
    }
   ],
   "source": [
    "sim = IsingSimulation(L, beta)\n",
    "M = []\n",
    "E = []\n",
    "for i in range(eq_steps):\n",
    "    print(i)\n",
    "    sim.step()\n",
    "    M.append(sim.calcMag())\n",
    "    E.append(sim.calcEnergy())"
   ]
  },
  {
   "cell_type": "code",
   "execution_count": null,
   "id": "d28608b9",
   "metadata": {},
   "outputs": [],
   "source": []
  },
  {
   "cell_type": "code",
   "execution_count": 9,
   "id": "bc7377ad",
   "metadata": {
    "scrolled": true
   },
   "outputs": [
    {
     "data": {
      "text/plain": [
       "1.000000000000001"
      ]
     },
     "execution_count": 9,
     "metadata": {},
     "output_type": "execute_result"
    }
   ],
   "source": [
    "ρ = 0.2"
   ]
  },
  {
   "cell_type": "code",
   "execution_count": null,
   "id": "679aa0f1",
   "metadata": {},
   "outputs": [],
   "source": []
  }
 ],
 "metadata": {
  "kernelspec": {
   "display_name": "Python 3 (ipykernel)",
   "language": "python",
   "name": "python3"
  },
  "language_info": {
   "codemirror_mode": {
    "name": "ipython",
    "version": 3
   },
   "file_extension": ".py",
   "mimetype": "text/x-python",
   "name": "python",
   "nbconvert_exporter": "python",
   "pygments_lexer": "ipython3",
   "version": "3.9.7"
  }
 },
 "nbformat": 4,
 "nbformat_minor": 5
}
