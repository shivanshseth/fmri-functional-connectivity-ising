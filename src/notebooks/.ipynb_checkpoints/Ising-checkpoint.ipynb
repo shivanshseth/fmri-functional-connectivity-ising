{
 "cells": [
  {
   "cell_type": "code",
   "execution_count": 34,
   "id": "e09b58b2",
   "metadata": {},
   "outputs": [],
   "source": [
    "import numpy as np\n",
    "import matplotlib.pyplot as plt\n",
    "from numpy.random import rand\n"
   ]
  },
  {
   "cell_type": "code",
   "execution_count": 19,
   "id": "f381c2e3",
   "metadata": {},
   "outputs": [],
   "source": [
    "bold = np.loadtxt('../data/50003_timeseries.txt')\n",
    "bold_bin = np.zeros(bold.shape)\n",
    "bold_bin[np.where(bold>=0)] = 1\n",
    "bold_bin[np.where(bold<0)] = -1"
   ]
  },
  {
   "cell_type": "code",
   "execution_count": 63,
   "id": "7cac770e",
   "metadata": {},
   "outputs": [],
   "source": [
    "n_rois = bold_bin.shape[1]\n",
    "n_timesteps = bold_bin.shape[0]\n",
    "beta = 1\n",
    "J = np.zeros((n_rois, n_rois))"
   ]
  },
  {
   "cell_type": "code",
   "execution_count": 65,
   "id": "94e631d8",
   "metadata": {},
   "outputs": [
    {
     "data": {
      "text/plain": [
       "array([[ 0.59183673, -0.03061224, -0.18367347, ..., -0.09183673,\n",
       "        -0.05102041, -0.06122449],\n",
       "       [-0.03061224,  0.59183673,  0.35714286, ...,  0.02040816,\n",
       "         0.02040816,  0.07142857],\n",
       "       [-0.18367347,  0.35714286,  0.59183673, ..., -0.03061224,\n",
       "         0.03061224,  0.14285714],\n",
       "       ...,\n",
       "       [-0.09183673,  0.02040816, -0.03061224, ...,  0.59183673,\n",
       "         0.40816327, -0.07142857],\n",
       "       [-0.05102041,  0.02040816,  0.03061224, ...,  0.40816327,\n",
       "         0.59183673, -0.07142857],\n",
       "       [-0.06122449,  0.07142857,  0.14285714, ..., -0.07142857,\n",
       "        -0.07142857,  0.59183673]])"
      ]
     },
     "execution_count": 65,
     "metadata": {},
     "output_type": "execute_result"
    }
   ],
   "source": [
    "fc = 1/n_timesteps * bold_bin @ bold_bin.T"
   ]
  },
  {
   "cell_type": "code",
   "execution_count": 68,
   "id": "3ca8b28a",
   "metadata": {},
   "outputs": [],
   "source": [
    "\n",
    "class IsingSimulation:\n",
    "    \n",
    "    def __init__(self, n_rois, beta, coupling_mat = False, J=None):\n",
    "        self.N = n_rois\n",
    "        self.beta = beta\n",
    "        if not coupling_mat:\n",
    "            J = np.random.uniform(0, 1, size=(n_rois, n_rois))\n",
    "            J = (J + J.T)/2 # making it symmetric\n",
    "            np.fill_diagonal(J, 1)\n",
    "        self.J = J\n",
    "        self.state = 2*np.random.randint(2, size=(n_rois))-1\n",
    "        return\n",
    "\n",
    "\n",
    "    def step(self, update_state = True, state = None):\n",
    "        if update_state:\n",
    "            state = self.state[:]\n",
    "        for i in range(self.N):\n",
    "            # calculating delH\n",
    "            H_i = 0\n",
    "            H_i = self.J[i, :] @ state.T \n",
    "            H_i -= self.J[i, i] * state[i] # removing self coupling term\n",
    "            cost = 2 * H_i\n",
    "            if cost < 0:\n",
    "                state[i] *= -1\n",
    "            elif rand() < np.exp(-cost*self.beta):\n",
    "                state[i] *= -1\n",
    "        if update_state:\n",
    "            self.state = state\n",
    "        return state\n",
    "    \n",
    "    def calcEnergy(self):\n",
    "        H = 0\n",
    "        H = -self.state @ self.J @ self.state.T\n",
    "        return H/2\n",
    "    \n",
    "    def calcMag(self):\n",
    "        mag = np.sum(self.state)\n",
    "        return mag\n",
    "    \n",
    "    def getTimeseries(self, n_timesteps):\n",
    "        time_series = np.zeros((n_timesteps, self.N))\n",
    "        state = self.state[:]\n",
    "        for i in range(n_timesteps):\n",
    "            state = self.step(False, state)\n",
    "            time_series[i] = state\n",
    "        fc = 1/n_timesteps * time_series @ time_series.T \n",
    "        return time_series, fc"
   ]
  },
  {
   "cell_type": "code",
   "execution_count": null,
   "id": "7cbb0bab",
   "metadata": {},
   "outputs": [],
   "source": []
  },
  {
   "cell_type": "code",
   "execution_count": 57,
   "id": "7b517138",
   "metadata": {},
   "outputs": [],
   "source": [
    "eqSteps = 10000     #  number of MC sweeps for equilibration\n",
    "# mcSteps = 2**9       #  number of MC sweeps for calculation"
   ]
  },
  {
   "cell_type": "code",
   "execution_count": 69,
   "id": "b02cfd7d",
   "metadata": {
    "scrolled": true
   },
   "outputs": [
    {
     "ename": "ValueError",
     "evalue": "The truth value of an array with more than one element is ambiguous. Use a.any() or a.all()",
     "output_type": "error",
     "traceback": [
      "\u001b[0;31m---------------------------------------------------------------------------\u001b[0m",
      "\u001b[0;31mValueError\u001b[0m                                Traceback (most recent call last)",
      "\u001b[0;32m/tmp/ipykernel_562/3800486573.py\u001b[0m in \u001b[0;36m<module>\u001b[0;34m\u001b[0m\n\u001b[1;32m      3\u001b[0m \u001b[0;31m# for T in np.linspace(1.53, 3.28, 2):\u001b[0m\u001b[0;34m\u001b[0m\u001b[0;34m\u001b[0m\u001b[0m\n\u001b[1;32m      4\u001b[0m \u001b[0mbeta\u001b[0m \u001b[0;34m=\u001b[0m \u001b[0;36m1\u001b[0m\u001b[0;34m\u001b[0m\u001b[0;34m\u001b[0m\u001b[0m\n\u001b[0;32m----> 5\u001b[0;31m \u001b[0msim\u001b[0m \u001b[0;34m=\u001b[0m \u001b[0mIsingSimulation\u001b[0m\u001b[0;34m(\u001b[0m\u001b[0mn_rois\u001b[0m\u001b[0;34m,\u001b[0m \u001b[0mbeta\u001b[0m\u001b[0;34m,\u001b[0m \u001b[0mJ\u001b[0m\u001b[0;34m=\u001b[0m\u001b[0mfc\u001b[0m\u001b[0;34m)\u001b[0m\u001b[0;34m\u001b[0m\u001b[0;34m\u001b[0m\u001b[0m\n\u001b[0m\u001b[1;32m      6\u001b[0m \u001b[0mn_timesteps\u001b[0m \u001b[0;34m=\u001b[0m \u001b[0;36m100\u001b[0m\u001b[0;34m\u001b[0m\u001b[0;34m\u001b[0m\u001b[0m\n\u001b[1;32m      7\u001b[0m \u001b[0mE1\u001b[0m \u001b[0;34m=\u001b[0m \u001b[0mM1\u001b[0m \u001b[0;34m=\u001b[0m \u001b[0mE2\u001b[0m \u001b[0;34m=\u001b[0m \u001b[0mM2\u001b[0m \u001b[0;34m=\u001b[0m \u001b[0;36m0\u001b[0m\u001b[0;34m\u001b[0m\u001b[0;34m\u001b[0m\u001b[0m\n",
      "\u001b[0;32m/tmp/ipykernel_562/2993246368.py\u001b[0m in \u001b[0;36m__init__\u001b[0;34m(self, n_rois, beta, J)\u001b[0m\n\u001b[1;32m      4\u001b[0m         \u001b[0mself\u001b[0m\u001b[0;34m.\u001b[0m\u001b[0mN\u001b[0m \u001b[0;34m=\u001b[0m \u001b[0mn_rois\u001b[0m\u001b[0;34m\u001b[0m\u001b[0;34m\u001b[0m\u001b[0m\n\u001b[1;32m      5\u001b[0m         \u001b[0mself\u001b[0m\u001b[0;34m.\u001b[0m\u001b[0mbeta\u001b[0m \u001b[0;34m=\u001b[0m \u001b[0mbeta\u001b[0m\u001b[0;34m\u001b[0m\u001b[0;34m\u001b[0m\u001b[0m\n\u001b[0;32m----> 6\u001b[0;31m         \u001b[0;32mif\u001b[0m \u001b[0mJ\u001b[0m \u001b[0;34m==\u001b[0m \u001b[0;32mNone\u001b[0m\u001b[0;34m:\u001b[0m\u001b[0;34m\u001b[0m\u001b[0;34m\u001b[0m\u001b[0m\n\u001b[0m\u001b[1;32m      7\u001b[0m             \u001b[0mJ\u001b[0m \u001b[0;34m=\u001b[0m \u001b[0mnp\u001b[0m\u001b[0;34m.\u001b[0m\u001b[0mrandom\u001b[0m\u001b[0;34m.\u001b[0m\u001b[0muniform\u001b[0m\u001b[0;34m(\u001b[0m\u001b[0;36m0\u001b[0m\u001b[0;34m,\u001b[0m \u001b[0;36m1\u001b[0m\u001b[0;34m,\u001b[0m \u001b[0msize\u001b[0m\u001b[0;34m=\u001b[0m\u001b[0;34m(\u001b[0m\u001b[0mn_rois\u001b[0m\u001b[0;34m,\u001b[0m \u001b[0mn_rois\u001b[0m\u001b[0;34m)\u001b[0m\u001b[0;34m)\u001b[0m\u001b[0;34m\u001b[0m\u001b[0;34m\u001b[0m\u001b[0m\n\u001b[1;32m      8\u001b[0m             \u001b[0mJ\u001b[0m \u001b[0;34m=\u001b[0m \u001b[0;34m(\u001b[0m\u001b[0mJ\u001b[0m \u001b[0;34m+\u001b[0m \u001b[0mJ\u001b[0m\u001b[0;34m.\u001b[0m\u001b[0mT\u001b[0m\u001b[0;34m)\u001b[0m\u001b[0;34m/\u001b[0m\u001b[0;36m2\u001b[0m \u001b[0;31m# making it symmetric\u001b[0m\u001b[0;34m\u001b[0m\u001b[0;34m\u001b[0m\u001b[0m\n",
      "\u001b[0;31mValueError\u001b[0m: The truth value of an array with more than one element is ambiguous. Use a.any() or a.all()"
     ]
    }
   ],
   "source": [
    "E = []\n",
    "\n",
    "# for T in np.linspace(1.53, 3.28, 2):\n",
    "beta = 1\n",
    "sim = IsingSimulation(n_rois, beta, coupling_mat = True, J=fc)\n",
    "n_timesteps = 100\n",
    "E1 = M1 = E2 = M2 = 0\n",
    "M = []\n",
    "for i in range(eqSteps):         # equilibrate\n",
    "    if i%1000 == 0:\n",
    "        print(i)\n",
    "    sim.step()           # Monte Carlo moves\n",
    "    E.append(sim.calcEnergy())\n",
    "    M.append(sim.calcMag())\n",
    "#     for i in range(mcSteps):\n",
    "#         sim.step()           \n",
    "#         Ene = calcEnergy(config)     # calculate the energy\n",
    "\n",
    "#         E1 = E1 + Ene\n",
    "#         M1 = M1 + Mag\n",
    "#         M2 = M2 + Mag*Mag \n",
    "#         E2 = E2 + Ene*Ene\n",
    "\n",
    "\n",
    "#     # divide by number of sites and iteractions to obtain intensive values    \n",
    "#     E[tt] = n1*E1\n",
    "#     M[tt] = n1*M1\n",
    "#     C[tt] = (n1*E2 - n2*E1*E1)*iT2\n",
    "#     X[tt] = (n1*M2 - n2*M1*M1)*iT\n",
    "time_series, sim_fc = sim.getTimeseries(n_timesteps)\n",
    "plt.plot(E)\n",
    "plt.plot(M)"
   ]
  },
  {
   "cell_type": "code",
   "execution_count": null,
   "id": "42ecda9e",
   "metadata": {},
   "outputs": [],
   "source": []
  },
  {
   "cell_type": "code",
   "execution_count": null,
   "id": "6d150a4d",
   "metadata": {},
   "outputs": [],
   "source": []
  }
 ],
 "metadata": {
  "kernelspec": {
   "display_name": "Python 3 (ipykernel)",
   "language": "python",
   "name": "python3"
  },
  "language_info": {
   "codemirror_mode": {
    "name": "ipython",
    "version": 3
   },
   "file_extension": ".py",
   "mimetype": "text/x-python",
   "name": "python",
   "nbconvert_exporter": "python",
   "pygments_lexer": "ipython3",
   "version": "3.9.7"
  }
 },
 "nbformat": 4,
 "nbformat_minor": 5
}
