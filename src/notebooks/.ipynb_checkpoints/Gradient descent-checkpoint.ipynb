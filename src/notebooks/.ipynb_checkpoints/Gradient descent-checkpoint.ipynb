{
 "cells": [
  {
   "cell_type": "code",
   "execution_count": 1,
   "id": "20effbb9",
   "metadata": {
    "scrolled": false
   },
   "outputs": [],
   "source": [
    "import numpy as np\n",
    "import matplotlib.pyplot as plt\n",
    "import timeit"
   ]
  },
  {
   "cell_type": "code",
   "execution_count": 2,
   "id": "6353c34f",
   "metadata": {},
   "outputs": [],
   "source": [
    "bold = np.loadtxt('../data/50003_timeseries.txt')\n",
    "bold_bin = np.zeros(bold.shape)\n",
    "bold_bin[np.where(bold>=0)] = 1\n",
    "bold_bin[np.where(bold<0)] = -1\n",
    "n_rois = bold_bin.shape[1]\n",
    "n_timesteps = bold_bin.shape[0]"
   ]
  },
  {
   "cell_type": "code",
   "execution_count": 3,
   "id": "eb7f84b9",
   "metadata": {},
   "outputs": [
    {
     "data": {
      "text/plain": [
       "(196, 116)"
      ]
     },
     "execution_count": 3,
     "metadata": {},
     "output_type": "execute_result"
    }
   ],
   "source": [
    "beta = 1\n",
    "state = bold_bin\n",
    "state.shape"
   ]
  },
  {
   "cell_type": "code",
   "execution_count": 40,
   "id": "0c7713c8",
   "metadata": {},
   "outputs": [],
   "source": [
    "# globals\n",
    "def loss(J, s):\n",
    "    term1 = 0\n",
    "    term2 = 0\n",
    "    for t in range(n_timesteps):\n",
    "        C = beta * J @ s[t].T\n",
    "        term1 += C @ s[t].T\n",
    "        term2 -= np.sum(np.log(np.exp(C) + np.exp(-C)))\n",
    "    return (term1+term2)/n_timesteps\n",
    "\n",
    "def gradient(J, s):\n",
    "    grad = np.zeros((n_rois, n_rois))\n",
    "    for t in range(n_timesteps):\n",
    "        C = beta * J @ s[t].T\n",
    "#         print(C.shape)\n",
    "        grad += np.outer(bold_bin[1], bold_bin[1].T) - np.outer(np.tanh(C).T, s[t])\n",
    "#     print(grad.shape)\n",
    "    return grad * beta/n_timesteps"
   ]
  },
  {
   "cell_type": "code",
   "execution_count": 47,
   "id": "4f3e2352",
   "metadata": {},
   "outputs": [],
   "source": [
    "def gradient_ascent(max_iterations,w_init,\n",
    "                     obj_func,grad_func,extra_param = [],\n",
    "                     learning_rate=0.05,momentum=0.8, threshold=0.005):\n",
    "    \n",
    "    w = w_init\n",
    "    w_history = [w]\n",
    "    f_history = [obj_func(w,extra_param)]\n",
    "    delta_w = np.zeros(w.shape)\n",
    "    i = 0\n",
    "    diff = 1.0e10\n",
    "    \n",
    "    while  i<max_iterations:\n",
    "        delta_w = learning_rate*grad_func(w,extra_param)\n",
    "#         print(delta_w)\n",
    "        w = w+delta_w\n",
    "        \n",
    "        # store the history of w and f\n",
    "        w_history.append(w)\n",
    "        f_history.append(obj_func(w,extra_param))\n",
    "        print(f\"loss: {f_history[-1]}\")\n",
    "        # update iteration number and diff between successive values\n",
    "        # of objective function\n",
    "        i+=1\n",
    "        diff = np.absolute(f_history[-1]-f_history[-2])\n",
    "    \n",
    "    return w_history,f_history"
   ]
  },
  {
   "cell_type": "code",
   "execution_count": 50,
   "id": "6796d86a",
   "metadata": {
    "scrolled": true
   },
   "outputs": [
    {
     "ename": "SyntaxError",
     "evalue": "positional argument follows keyword argument (3077322302.py, line 9)",
     "output_type": "error",
     "traceback": [
      "\u001b[0;36m  File \u001b[0;32m\"/tmp/ipykernel_250/3077322302.py\"\u001b[0;36m, line \u001b[0;32m9\u001b[0m\n\u001b[0;31m    J_hist, f_hist = gradient_ascent(100, learning_rate = 0.0005, J, loss, gradient, extra_param=bold_bin)\u001b[0m\n\u001b[0m                                                                                                         ^\u001b[0m\n\u001b[0;31mSyntaxError\u001b[0m\u001b[0;31m:\u001b[0m positional argument follows keyword argument\n"
     ]
    }
   ],
   "source": [
    "J = np.random.uniform(0, 1, size=(n_rois, n_rois))\n",
    "J = (J + J.T)/2 # making it symmetric\n",
    "np.fill_diagonal(J, 1)\n",
    "# print(J.shape)\n",
    "start = timeit.default_timer()\n",
    "\n",
    "#Your statements here\n",
    "\n",
    "J_hist, f_hist = gradient_ascent(100, , J, loss, gradient, extra_param=bold_bin)\n",
    "stop = timeit.default_timer()\n",
    "print(stop - start)"
   ]
  },
  {
   "cell_type": "code",
   "execution_count": 35,
   "id": "06d1fa73",
   "metadata": {},
   "outputs": [
    {
     "name": "stdout",
     "output_type": "stream",
     "text": [
      "(116, 116)\n"
     ]
    },
    {
     "data": {
      "text/plain": [
       "array([[ 0.63941434,  0.91259763, -1.38667675, ...,  0.97732562,\n",
       "        -1.271148  ,  0.80478887],\n",
       "       [ 0.64981318,  0.88304238, -1.42149644, ...,  0.96666799,\n",
       "        -1.29400744,  0.7888905 ],\n",
       "       [-1.31800438, -1.07956325,  0.5649875 , ..., -1.07396037,\n",
       "         0.73111962, -1.24096553],\n",
       "       ...,\n",
       "       [ 0.67193944,  0.92389227, -1.4235992 , ...,  0.91572338,\n",
       "        -1.25441529,  0.77278526],\n",
       "       [-1.31786791, -1.09330758,  0.5459214 , ..., -1.0628717 ,\n",
       "         0.69546654, -1.24872447],\n",
       "       [ 0.65624307,  0.9102043 , -1.43025217, ...,  0.93631531,\n",
       "        -1.26470871,  0.73094612]])"
      ]
     },
     "execution_count": 35,
     "metadata": {},
     "output_type": "execute_result"
    }
   ],
   "source": [
    "J = np.random.uniform(0, 1, size=(n_rois, n_rois))\n",
    "J = (J + J.T)/2 # making it symmetric\n",
    "np.fill_diagonal(J, 1)\n",
    "gradient(J, bold_bin)"
   ]
  },
  {
   "cell_type": "code",
   "execution_count": 101,
   "id": "17e25ae3",
   "metadata": {},
   "outputs": [],
   "source": [
    "fc = 1/n_timesteps * bold_bin.T @ bold_bin"
   ]
  },
  {
   "cell_type": "code",
   "execution_count": 49,
   "id": "ded438f2",
   "metadata": {},
   "outputs": [
    {
     "data": {
      "text/plain": [
       "[<matplotlib.lines.Line2D at 0x7fb379c63400>]"
      ]
     },
     "execution_count": 49,
     "metadata": {},
     "output_type": "execute_result"
    },
    {
     "data": {
      "image/png": "[encoded data removed]",
      "text/plain": [
       "<Figure size 432x288 with 1 Axes>"
      ]
     },
     "metadata": {
      "needs_background": "light"
     },
     "output_type": "display_data"
    }
   ],
   "source": [
    "corr = []\n",
    "for i in J_hist:\n",
    "    corr.append(loss(i, bold_bin))\n",
    "#     c = np.corrcoef(np.triu(fc).flatten(), np.triu(i).flatten())[0, 1]\n",
    "#     corr.append(c)\n",
    "plt.plot(corr)"
   ]
  },
  {
   "cell_type": "code",
   "execution_count": null,
   "id": "77307f8d",
   "metadata": {},
   "outputs": [],
   "source": []
  }
 ],
 "metadata": {
  "kernelspec": {
   "display_name": "Python 3 (ipykernel)",
   "language": "python",
   "name": "python3"
  },
  "language_info": {
   "codemirror_mode": {
    "name": "ipython",
    "version": 3
   },
   "file_extension": ".py",
   "mimetype": "text/x-python",
   "name": "python",
   "nbconvert_exporter": "python",
   "pygments_lexer": "ipython3",
   "version": "3.9.7"
  }
 },
 "nbformat": 4,
 "nbformat_minor": 5
}
