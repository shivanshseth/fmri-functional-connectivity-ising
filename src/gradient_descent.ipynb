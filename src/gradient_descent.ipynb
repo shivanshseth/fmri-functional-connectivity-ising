{
 "cells": [
  {
   "cell_type": "code",
   "execution_count": 21,
   "metadata": {},
   "outputs": [],
   "source": [
    "import numpy as np\n",
    "import matplotlib.pyplot as plt\n",
    "import timeit\n",
    "from scripts.ising_simulation import IsingSimulation\n",
    "from joblib import Parallel, delayed\n",
    "from scipy import optimize\n",
    "from scipy.stats import zscore\n",
    "import pickle"
   ]
  },
  {
   "cell_type": "code",
   "execution_count": 6,
   "metadata": {},
   "outputs": [],
   "source": [
    "bold = np.loadtxt('../data/50003_timeseries.txt')\n",
    "bold_bin = np.zeros(bold.shape)\n",
    "bold_bin[np.where(bold>=0)] = 1\n",
    "bold_bin[np.where(bold<0)] = -1\n",
    "n_rois = bold_bin.shape[1]\n",
    "n_timesteps = bold_bin.shape[0]"
   ]
  },
  {
   "cell_type": "code",
   "execution_count": 7,
   "metadata": {},
   "outputs": [],
   "source": [
    "sim_timesteps = 300\n",
    "eq_steps = 1000     #  number of MC sweeps for equilibration\n",
    "σ = 10000\n",
    "α = 1"
   ]
  },
  {
   "cell_type": "code",
   "execution_count": 8,
   "metadata": {},
   "outputs": [],
   "source": [
    "\n",
    "def loss(J, s, beta):\n",
    "#     print(s.shape)\n",
    "    J = np.reshape(J, (n_rois, n_rois))\n",
    "#     print(J.shape)\n",
    "    term1 = 0\n",
    "    term2 = 0\n",
    "    for t in range(n_timesteps):\n",
    "        C = beta * J @ s[t].T\n",
    "        term1 += C @ s[t].T\n",
    "        term2 -= np.sum(np.log(np.exp(C) + np.exp(-C)))\n",
    "    return -(term1+term2)/n_timesteps\n",
    "\n",
    "def gradient(J, s, beta):\n",
    "    J = np.reshape(J, (n_rois, n_rois))\n",
    "    grad = np.zeros((n_rois, n_rois))\n",
    "    for t in range(n_timesteps):\n",
    "        C = beta * J @ s[t].T\n",
    "        grad += np.outer(s[t], s[t].T) - np.outer(np.tanh(C).T, s[t])\n",
    "    grad = grad * beta/n_timesteps\n",
    "    return -grad.flatten()\n",
    "\n",
    "def gradient_descent(max_iterations,w_init,\n",
    "                     obj_func,grad_func,extra_param = (),\n",
    "                     learning_rate=0.05,momentum=0.8, threshold=0.001, disp=False):\n",
    "    \n",
    "    w = w_init\n",
    "    w_history = [w]\n",
    "    f_history = [obj_func(w,*extra_param)]\n",
    "    delta_w = np.zeros(w.shape)\n",
    "    i = 0\n",
    "    diff = 1.0e10\n",
    "    \n",
    "    while i<max_iterations and diff > threshold:\n",
    "        grad = grad_func(w,*extra_param)\n",
    "        # print(\"from func\", grad.shape)\n",
    "        grad = np.reshape(grad, (n_rois, n_rois))\n",
    "        # print(grad.shape)\n",
    "        delta_w = -learning_rate*grad\n",
    "        w = w+delta_w\n",
    "        f_history.append(obj_func(w,*extra_param))\n",
    "        w_history.append(w)\n",
    "        if i%10 == 0 and disp: \n",
    "            print(f\"iteration: {i} loss: {f_history[-1]} grad: {np.sum(grad)}\")\n",
    "        i+=1\n",
    "        diff = np.absolute(f_history[-1]-f_history[-2])\n",
    "    \n",
    "    return w_history,f_history"
   ]
  },
  {
   "cell_type": "code",
   "execution_count": 30,
   "metadata": {},
   "outputs": [],
   "source": [
    "def corr_analysis(beta, fc, sim_timesteps=n_timesteps, n_folds=5, train=True, J_max=None):\n",
    "    f_hist = []\n",
    "    J_corr_hist = []\n",
    "    corr_hist = []\n",
    "    if train: \n",
    "        J = np.random.uniform(0, 1, size=(n_rois, n_rois))\n",
    "        J = (J + J.T)/2 # making it symmetric\n",
    "        np.fill_diagonal(J, 0)\n",
    "        J_hist, f_hist = gradient_descent(σ, J, loss, gradient, extra_param=(bold_bin, beta) , learning_rate=α, threshold=0.001, disp=True)\n",
    "        J_max = J_hist[f_hist.index(min(f_hist))]\n",
    "        for i in J_hist: \n",
    "            sim = IsingSimulation(n_rois, beta, coupling_mat=True, J=i)\n",
    "            _, sim_fc = sim.getTimeseries(sim_timesteps)\n",
    "            J_corr_hist.append(\n",
    "                np.corrcoef(np.triu(fc).flatten(), np.triu(i).flatten())[0, 1])\n",
    "            corr_hist.append(\n",
    "                np.corrcoef(np.triu(fc).flatten(), np.triu(sim_fc).flatten())[0, 1]\n",
    "            )\n",
    "        \n",
    "\n",
    "        # J_max = optimize.fmin_cg(loss, x0=J.flatten(), fprime=gradient, args=(bold_bin, beta))\n",
    "        # J_max = np.reshape(J_max, (n_rois, n_rois))\n",
    "\n",
    "    sim = IsingSimulation(n_rois, beta, coupling_mat = True, J=J_max)\n",
    "    for i in range(eq_steps):\n",
    "        sim.step()\n",
    "    corrs = np.zeros(n_folds)\n",
    "    self_corr = np.zeros(n_folds)\n",
    "    _, sample_fc = sim.getTimeseries(sim_timesteps)\n",
    "    for i in range(n_folds):\n",
    "        _, sim_fc = sim.getTimeseries(sim_timesteps)\n",
    "        corrs[i] = np.corrcoef(np.triu(fc).flatten(), np.triu(sim_fc).flatten())[0, 1]\n",
    "        self_corr[i] = np.corrcoef(np.triu(sample_fc).flatten(), np.triu(sim_fc).flatten())[0, 1]\n",
    "    res = {\n",
    "        'mean': np.mean(corrs),\n",
    "        'std': np.std(corrs),\n",
    "        'self_corr_mean': np.mean(self_corr),\n",
    "        'self_corr_std': np.std(self_corr),\n",
    "        'J_corr': np.corrcoef(np.triu(fc).flatten(), np.triu(J_max).flatten())[0, 1],\n",
    "        'J_corr_hist': J_corr_hist,\n",
    "        'f_hist': f_hist,\n",
    "        'corr_hist': corr_hist,\n",
    "    }\n",
    "    if train:\n",
    "        return res, J_max\n",
    "    return res"
   ]
  },
  {
   "cell_type": "markdown",
   "metadata": {},
   "source": [
    "## Effect of $\\beta$\n"
   ]
  },
  {
   "cell_type": "code",
   "execution_count": 31,
   "metadata": {},
   "outputs": [
    {
     "name": "stdout",
     "output_type": "stream",
     "text": [
      "iteration: 0 loss: 124.2568424247649 grad: 186.59666530918997\n",
      "iteration: 10 loss: 69.17482436882315 grad: 133.50215749542767\n",
      "iteration: 20 loss: 47.842349781009894 grad: 67.59465812891534\n",
      "iteration: 30 loss: 38.46520188917041 grad: 33.426255230249126\n",
      "iteration: 40 loss: 32.791700918688285 grad: 17.953742513325142\n",
      "iteration: 50 loss: 28.788020579659168 grad: 10.392251164483122\n",
      "iteration: 60 loss: 25.743048219783915 grad: 6.30316504984823\n",
      "iteration: 70 loss: 23.321130711046585 grad: 3.8929051751687194\n",
      "iteration: 80 loss: 21.335357005000034 grad: 2.374329534187428\n",
      "iteration: 90 loss: 19.670693102837635 grad: 1.368031046961788\n",
      "iteration: 100 loss: 18.25129761741586 grad: 0.6751526432233046\n",
      "iteration: 110 loss: 17.024561659594244 grad: 0.1839118653849288\n",
      "iteration: 120 loss: 15.952536407468145 grad: -0.17224365831878638\n",
      "iteration: 130 loss: 15.00698624813485 grad: -0.434856609977428\n",
      "iteration: 140 loss: 14.16636789416121 grad: -0.6308982910174185\n",
      "iteration: 150 loss: 13.413899030149173 grad: -0.7784687110199207\n",
      "iteration: 160 loss: 12.736275809394101 grad: -0.8900616303511991\n",
      "iteration: 170 loss: 12.122793658917526 grad: -0.9745127711238135\n",
      "iteration: 180 loss: 11.564728011420181 grad: -1.0382039080374525\n",
      "iteration: 190 loss: 11.054887833480262 grad: -1.0858301422978984\n",
      "iteration: 200 loss: 10.587287154010037 grad: -1.1209020989968057\n",
      "iteration: 210 loss: 10.156899087755049 grad: -1.1460825165627195\n",
      "iteration: 220 loss: 9.759468736757652 grad: -1.1634166781203796\n",
      "iteration: 230 loss: 9.391368891180774 grad: -1.1744932164795725\n",
      "iteration: 240 loss: 9.049487353992678 grad: -1.1805583011732836\n",
      "iteration: 250 loss: 8.731137976349359 grad: -1.182598021428782\n",
      "iteration: 260 loss: 8.43398970601269 grad: -1.181398694629449\n",
      "iteration: 270 loss: 8.156009483897073 grad: -1.1775916077758646\n",
      "iteration: 280 loss: 7.895415902260334 grad: -1.1716866181331815\n",
      "iteration: 290 loss: 7.650641308586162 grad: -1.1640976710434439\n",
      "iteration: 300 loss: 7.420300597502746 grad: -1.1551623787338832\n",
      "iteration: 310 loss: 7.203165342875782 grad: -1.1451571838213621\n",
      "iteration: 320 loss: 6.99814222652662 grad: -1.1343092044619676\n",
      "iteration: 330 loss: 6.804254948501397 grad: -1.1228055604137819\n",
      "iteration: 340 loss: 6.620628977069995 grad: -1.1108007689545865\n",
      "iteration: 350 loss: 6.446478629204611 grad: -1.0984226491812588\n",
      "iteration: 360 loss: 6.2810960746503826 grad: -1.0857770644147349\n",
      "iteration: 370 loss: 6.12384193631082 grad: -1.0729517528842234\n",
      "iteration: 380 loss: 5.974137222101527 grad: -1.060019438114593\n",
      "iteration: 390 loss: 5.831456372685834 grad: -1.0470403666426775\n",
      "iteration: 400 loss: 5.695321248651528 grad: -1.0340643877478377\n",
      "iteration: 410 loss: 5.565295911974949 grad: -1.021132664902754\n",
      "iteration: 420 loss: 5.440982081781803 grad: -1.0082790895615203\n",
      "iteration: 430 loss: 5.3220151647436404 grad: -0.9955314532087183\n",
      "iteration: 440 loss: 5.208060776984504 grad: -0.982912422206192\n",
      "iteration: 450 loss: 5.0988116878639 grad: -0.9704403510932291\n",
      "iteration: 460 loss: 4.993985127070304 grad: -0.9581299630276391\n",
      "iteration: 470 loss: 4.893320405603901 grad: -0.9459929205567961\n",
      "iteration: 480 loss: 4.796576808753065 grad: -0.9340383055458836\n",
      "iteration: 490 loss: 4.703531725466375 grad: -0.9222730236128206\n",
      "iteration: 500 loss: 4.613978983747446 grad: -0.9107021456333124\n",
      "iteration: 510 loss: 4.527727366081902 grad: -0.8993291966373389\n",
      "iteration: 520 loss: 4.444599282597126 grad: -0.8881564006062967\n",
      "iteration: 530 loss: 4.364429582747441 grad: -0.877184888209497\n",
      "iteration: 540 loss: 4.287064488960489 grad: -0.8664148733206987\n",
      "iteration: 550 loss: 4.21236063788879 grad: -0.8558458031758213\n",
      "iteration: 560 loss: 4.140184216831418 grad: -0.8454764862292281\n",
      "iteration: 570 loss: 4.070410184483062 grad: -0.8353052011042201\n",
      "iteration: 580 loss: 4.002921566580676 grad: -0.8253297894869241\n",
      "iteration: 590 loss: 3.937608818180576 grad: -0.8155477353599614\n",
      "iteration: 600 loss: 3.8743692453442367 grad: -0.8059562325961923\n",
      "iteration: 610 loss: 3.8131064798784866 grad: -0.7965522426194426\n",
      "iteration: 620 loss: 3.7537300015521433 grad: -0.7873325435773718\n",
      "iteration: 630 loss: 3.6961547028557997 grad: -0.7782937722524422\n",
      "iteration: 640 loss: 3.6403004919637687 grad: -0.7694324597529465\n",
      "iteration: 650 loss: 3.5860919300454897 grad: -0.7607450618712304\n",
      "iteration: 660 loss: 3.5334578995188335 grad: -0.7522279848657063\n",
      "iteration: 670 loss: 3.4823313002062997 grad: -0.7438776073129456\n",
      "iteration: 680 loss: 3.4326487707073414 grad: -0.7356902985827256\n",
      "iteration: 690 loss: 3.3843504325779987 grad: -0.7276624344096763\n",
      "iteration: 700 loss: 3.3373796551747303 grad: -0.7197904099678359\n",
      "iteration: 710 loss: 3.291682839242788 grad: -0.7120706507970599\n",
      "iteration: 720 loss: 3.247209217536748 grad: -0.7044996218813675\n",
      "iteration: 730 loss: 3.203910670925362 grad: -0.6970738351375001\n",
      "iteration: 740 loss: 3.1617415586063413 grad: -0.6897898555362516\n",
      "iteration: 750 loss: 3.1206585611803996 grad: -0.6826443060485037\n",
      "iteration: 760 loss: 3.0806205354670517 grad: -0.6756338715816325\n",
      "iteration: 770 loss: 3.0415883800525654 grad: -0.6687553020493796\n",
      "iteration: 780 loss: 3.003524910655925 grad: -0.6620054146988541\n",
      "iteration: 790 loss: 2.9663947444894023 grad: -0.65538109580164\n",
      "iteration: 800 loss: 2.930164192867314 grad: -0.64887930180153\n",
      "iteration: 810 loss: 2.8948011613831524 grad: -0.6424970599989829\n",
      "iteration: 820 loss: 2.8602750570454583 grad: -0.6362314688416448\n",
      "iteration: 830 loss: 2.826556701812497 grad: -0.6300796978809675\n",
      "iteration: 840 loss: 2.7936182520154444 grad: -0.6240389874469099\n",
      "iteration: 850 loss: 2.761433123213409 grad: -0.6181066480857393\n",
      "iteration: 860 loss: 2.729975920054464 grad: -0.6122800597998865\n",
      "iteration: 870 loss: 2.699222370761924 grad: -0.6065566711235824\n",
      "iteration: 880 loss: 2.669149265892234 grad: -0.6009339980634274\n",
      "iteration: 890 loss: 2.639734401045198 grad: -0.5954096229290966\n",
      "iteration: 900 loss: 2.6109565232298113 grad: -0.5899811930759544\n",
      "iteration: 910 loss: 2.582795280625036 grad: -0.5846464195783383\n",
      "iteration: 920 loss: 2.5552311754743977 grad: -0.5794030758496973\n",
      "iteration: 930 loss: 2.528245519904774 grad: -0.5742489962234748\n",
      "iteration: 940 loss: 2.501820394446385 grad: -0.5691820745066944\n",
      "iteration: 950 loss: 2.4759386090732285 grad: -0.5642002625164565\n",
      "iteration: 960 loss: 2.4505836665830802 grad: -0.5593015686080884\n",
      "iteration: 970 loss: 2.425739728154811 grad: -0.5544840562023685\n",
      "iteration: 980 loss: 2.4013915809363406 grad: -0.5497458423181444\n",
      "iteration: 990 loss: 2.377524607523439 grad: -0.5450850961156448\n",
      "iteration: 1000 loss: 2.3541247572029533 grad: -0.5405000374549693\n",
      "iteration: 1010 loss: 2.3311785188404746 grad: -0.5359889354734599\n",
      "iteration: 1020 loss: 2.3086728953074975 grad: -0.5315501071850453\n",
      "iteration: 1030 loss: 2.2865953793474807 grad: -0.5271819161040623\n",
      "iteration: 1040 loss: 2.2649339307797107 grad: -0.5228827708955947\n",
      "iteration: 1050 loss: 2.243676954970007 grad: -0.5186511240539291\n",
      "iteration: 1060 loss: 2.222813282468432 grad: -0.5144854706103875\n",
      "iteration: 1070 loss: 2.202332149761119 grad: -0.5103843468714562\n",
      "iteration: 1080 loss: 2.182223181046557 grad: -0.506346329187879\n",
      "iteration: 1090 loss: 2.162476370988789 grad: -0.502370032755148\n",
      "iteration: 1100 loss: 2.14308206837936 grad: -0.49845411044561744\n",
      "iteration: 1110 loss: 2.1240309606505896 grad: -0.49459725167230395\n",
      "iteration: 1120 loss: 2.1053140591994466 grad: -0.4907981812842883\n",
      "iteration: 1130 loss: 2.086922685460956 grad: -0.4870556584935142\n",
      "iteration: 1140 loss: 2.068848457692796 grad: -0.4833684758326714\n",
      "iteration: 1150 loss: 2.0510832784314386 grad: -0.47973545814377067\n",
      "iteration: 1160 loss: 2.0336193225737924 grad: -0.47615546159693745\n",
      "iteration: 1170 loss: 2.0164490260558896 grad: -0.47262737273890265\n",
      "iteration: 1180 loss: 1.9995650750876608 grad: -0.46915010757061315\n",
      "iteration: 1190 loss: 1.982960395915551 grad: -0.4657226106533485\n",
      "iteration: 1200 loss: 1.966628145082203 grad: -0.4623438542427015\n",
      "iteration: 1210 loss: 1.9505617001571465 grad: -0.45901283744976135\n",
      "iteration: 1220 loss: 1.9347546509084261 grad: -0.4557285854288081\n",
      "iteration: 1230 loss: 1.9192007908951587 grad: -0.4524901485908384\n",
      "iteration: 1240 loss: 1.9038941094523598 grad: -0.4492966018422117\n",
      "iteration: 1250 loss: 1.8888287840549385 grad: -0.44614704384772574\n",
      "iteration: 1260 loss: 1.8739991730325696 grad: -0.4430405963174123\n",
      "iteration: 1270 loss: 1.859399808619447 grad: -0.4399764033163675\n",
      "iteration: 1280 loss: 1.845025390323622 grad: -0.43695363059691517\n",
      "iteration: 1290 loss: 1.8308707785948413 grad: -0.4339714649524329\n",
      "iteration: 1300 loss: 1.8169309887779286 grad: -0.43102911359216434\n",
      "iteration: 1310 loss: 1.803201185336195 grad: -0.4281258035363559\n",
      "iteration: 1320 loss: 1.7896766763307674 grad: -0.425260781031079\n",
      "iteration: 1330 loss: 1.776352908143072 grad: -0.42243331098210035\n",
      "iteration: 1340 loss: 1.7632254604278406 grad: -0.4196426764071747\n",
      "iteration: 1350 loss: 1.7502900412841418 grad: -0.4168881779061741\n",
      "iteration: 1360 loss: 1.7375424826372627 grad: -0.41416913314844417\n",
      "iteration: 1370 loss: 1.724978735813405 grad: -0.4114848763768323\n",
      "iteration: 1380 loss: 1.7125948673073048 grad: -0.40883475792782\n",
      "iteration: 1390 loss: 1.7003870547237334 grad: -0.4062181437672203\n",
      "iteration: 1400 loss: 1.6883515828936948 grad: -0.4036344150409215\n",
      "iteration: 1410 loss: 1.6764848401481705 grad: -0.4010829676401567\n",
      "iteration: 1420 loss: 1.664783314747257 grad: -0.39856321178081244\n",
      "iteration: 1430 loss: 1.6532435914574604 grad: -0.39607457159629944\n",
      "iteration: 1440 loss: 1.6418623482647063 grad: -0.3936164847435169\n",
      "iteration: 1450 loss: 1.6306363532250767 grad: -0.3911884020214621\n",
      "iteration: 1460 loss: 1.6195624614383446 grad: -0.3887897870020609\n",
      "iteration: 1470 loss: 1.6086376121443116 grad: -0.38642011567278467\n",
      "iteration: 1480 loss: 1.597858825934481 grad: -0.38407887609066493\n",
      "iteration: 1490 loss: 1.5872232020710169 grad: -0.38176556804729866\n",
      "iteration: 1500 loss: 1.5767279159177374 grad: -0.3794797027444826\n",
      "iteration: 1510 loss: 1.5663702164613509 grad: -0.37722080248009227\n",
      "iteration: 1520 loss: 1.5561474239360051 grad: -0.3749884003438732\n",
      "iteration: 1530 loss: 1.5460569275362235 grad: -0.37278203992278947\n"
     ]
    }
   ],
   "source": [
    "fc = 1/n_timesteps * bold_bin.T @ bold_bin\n",
    "res, J = corr_analysis(0.1, fc)"
   ]
  },
  {
   "cell_type": "code",
   "execution_count": null,
   "metadata": {},
   "outputs": [],
   "source": [
    "file = open('results/gd_0.1.pkl', 'wb')\n",
    "pickle.dump(res, file)"
   ]
  },
  {
   "cell_type": "code",
   "execution_count": 32,
   "metadata": {},
   "outputs": [
    {
     "data": {
      "text/plain": [
       "<function matplotlib.pyplot.savefig(*args, **kwargs)>"
      ]
     },
     "execution_count": 32,
     "metadata": {},
     "output_type": "execute_result"
    },
    {
     "data": {
      "image/png": "[encoded data removed]",
      "text/plain": [
       "<Figure size 432x288 with 1 Axes>"
      ]
     },
     "metadata": {
      "needs_background": "light"
     },
     "output_type": "display_data"
    }
   ],
   "source": [
    "L = (res['f_hist'] - min(res['f_hist']))/(max(res['f_hist']) - min(res['f_hist']))\n",
    "plt.plot(L, color='gray', label='Standardized Loss')\n",
    "plt.plot(res['J_corr_hist'], color='red', label='Correlation between FC and J')\n",
    "plt.plot(res['corr_hist'], color='red', label='Correlation between FC and simFC')\n",
    "plt.xlabel(r'Iterations', fontsize=14)\n",
    "plt.ylabel('Correlation', fontsize=14)\n",
    "plt.legend()\n",
    "plt.tick_params(axis='both', which='major', direction='inout', length = 10, width = 1.5, labelsize='14')\n",
    "plt.savefig"
   ]
  },
  {
   "cell_type": "code",
   "execution_count": 137,
   "metadata": {},
   "outputs": [
    {
     "name": "stdout",
     "output_type": "stream",
     "text": [
      "Optimization terminated successfully.\n",
      "         Current function value: 80.405073\n",
      "         Iterations: 0\n",
      "         Function evaluations: 1\n",
      "         Gradient evaluations: 1\n",
      "Optimization terminated successfully.\n",
      "         Current function value: 0.000243\n",
      "         Iterations: 24\n",
      "         Function evaluations: 96\n",
      "         Gradient evaluations: 96\n",
      "Optimization terminated successfully.\n",
      "         Current function value: 0.000105\n",
      "         Iterations: 28\n",
      "         Function evaluations: 110\n",
      "         Gradient evaluations: 110\n",
      "Optimization terminated successfully.\n",
      "         Current function value: 0.000118\n",
      "         Iterations: 28\n",
      "         Function evaluations: 116\n",
      "         Gradient evaluations: 116\n",
      "Optimization terminated successfully.\n",
      "         Current function value: 0.000156\n",
      "         Iterations: 30\n",
      "         Function evaluations: 127\n",
      "         Gradient evaluations: 127\n",
      "Optimization terminated successfully.\n",
      "         Current function value: 0.000469\n",
      "         Iterations: 29\n",
      "         Function evaluations: 136\n",
      "         Gradient evaluations: 136\n",
      "Optimization terminated successfully.\n",
      "         Current function value: 0.000659\n",
      "         Iterations: 29\n",
      "         Function evaluations: 142\n",
      "         Gradient evaluations: 142\n",
      "Optimization terminated successfully.\n",
      "         Current function value: 0.001270\n",
      "         Iterations: 30\n",
      "         Function evaluations: 169\n",
      "         Gradient evaluations: 169\n",
      "Optimization terminated successfully.\n",
      "         Current function value: 0.000105\n",
      "         Iterations: 28\n",
      "         Function evaluations: 93\n",
      "         Gradient evaluations: 93\n",
      "Optimization terminated successfully.\n",
      "         Current function value: 0.000038\n",
      "         Iterations: 20\n",
      "         Function evaluations: 69\n",
      "         Gradient evaluations: 69\n",
      "Optimization terminated successfully.\n",
      "         Current function value: 0.000096\n",
      "         Iterations: 16\n",
      "         Function evaluations: 48\n",
      "         Gradient evaluations: 48\n",
      "Optimization terminated successfully.\n",
      "         Current function value: 0.000047\n",
      "         Iterations: 20\n",
      "         Function evaluations: 74\n",
      "         Gradient evaluations: 74\n",
      "Optimization terminated successfully.\n",
      "         Current function value: 0.000060\n",
      "         Iterations: 18\n",
      "         Function evaluations: 60\n",
      "         Gradient evaluations: 60\n",
      "Optimization terminated successfully.\n",
      "         Current function value: 0.000038\n",
      "         Iterations: 16\n",
      "         Function evaluations: 48\n",
      "         Gradient evaluations: 48\n",
      "Optimization terminated successfully.\n",
      "         Current function value: 0.000067\n",
      "         Iterations: 17\n",
      "         Function evaluations: 48\n",
      "         Gradient evaluations: 48\n",
      "Optimization terminated successfully.\n",
      "         Current function value: 0.000031\n",
      "         Iterations: 18\n",
      "         Function evaluations: 49\n",
      "         Gradient evaluations: 49\n",
      "Optimization terminated successfully.\n",
      "         Current function value: 0.000048\n",
      "         Iterations: 16\n",
      "         Function evaluations: 44\n",
      "         Gradient evaluations: 44\n",
      "Optimization terminated successfully.\n",
      "         Current function value: 0.000010\n",
      "         Iterations: 14\n",
      "         Function evaluations: 36\n",
      "         Gradient evaluations: 36\n",
      "Optimization terminated successfully.\n",
      "         Current function value: 0.000015\n",
      "         Iterations: 16\n",
      "         Function evaluations: 45\n",
      "         Gradient evaluations: 45\n",
      "Optimization terminated successfully.\n",
      "         Current function value: 0.000016\n",
      "         Iterations: 18\n",
      "         Function evaluations: 50\n",
      "         Gradient evaluations: 50\n"
     ]
    }
   ],
   "source": [
    "fc = 1/n_timesteps * bold_bin.T @ bold_bin\n",
    "results = Parallel(n_jobs=8)(delayed(corr_analysis)(i, fc) for i in np.linspace(0, 4, 20))"
   ]
  },
  {
   "cell_type": "code",
   "execution_count": 149,
   "metadata": {},
   "outputs": [],
   "source": [
    "means = []\n",
    "std = []\n",
    "self_mean = []\n",
    "self_std = []\n",
    "J_corr = []\n",
    "betas = np.linspace(0, 4, 20)\n",
    "for i in results:\n",
    "    means.append(i[0]['mean'])\n",
    "    std.append(i[0]['std'])\n",
    "    self_mean.append(i[0]['self_corr_mean'])\n",
    "    self_std.append(i[0]['self_corr_std'])\n",
    "    J_corr.append(i[0]['J_corr'])"
   ]
  },
  {
   "cell_type": "code",
   "execution_count": 148,
   "metadata": {},
   "outputs": [
    {
     "data": {
      "image/png": "[encoded data removed]",
      "text/plain": [
       "<Figure size 432x288 with 1 Axes>"
      ]
     },
     "metadata": {
      "needs_background": "light"
     },
     "output_type": "display_data"
    }
   ],
   "source": [
    "plt.errorbar(betas, means, fmt='o-', yerr=std, capsize=5, color='gray')\n",
    "plt.xlabel(r'$\\beta$', fontsize=14)\n",
    "plt.ylabel('Correlation', fontsize=14)\n",
    "plt.tick_params(axis='both', which='major', direction='inout', length = 10, width = 1.5, labelsize='14')"
   ]
  },
  {
   "cell_type": "code",
   "execution_count": null,
   "metadata": {},
   "outputs": [],
   "source": [
    "\n",
    "plt.errorbar(betas, self_mean, fmt='o-', yerr=self_std, capsize=5, color='gray')\n",
    "plt.xlabel(r'$\\beta$', fontsize=14)\n",
    "plt.ylabel('Correlation', fontsize=14)\n",
    "plt.title('Consistency in simulated FC')\n",
    "plt.tick_params(axis='both', which='major', direction='inout', length = 10, width = 1.5, labelsize='14')"
   ]
  },
  {
   "cell_type": "code",
   "execution_count": null,
   "metadata": {},
   "outputs": [],
   "source": [
    "plt.errorbar(betas, J_corr, fmt='o-', capsize=5, color='gray')\n",
    "plt.xlabel(r'$\\beta$', fontsize=14)\n",
    "plt.ylabel('Correlation', fontsize=14)\n",
    "plt.title('Relationship between J and FC')\n",
    "plt.tick_params(axis='both', which='major', direction='inout', length = 10, width = 1.5, labelsize='14')"
   ]
  },
  {
   "cell_type": "markdown",
   "metadata": {},
   "source": [
    "## Ideal simulation time for correlation with functional connectivity"
   ]
  },
  {
   "cell_type": "code",
   "execution_count": 117,
   "metadata": {},
   "outputs": [
    {
     "name": "stdout",
     "output_type": "stream",
     "text": [
      "Optimization terminated successfully.\n",
      "         Current function value: 0.001872\n",
      "         Iterations: 24\n",
      "         Function evaluations: 148\n",
      "         Gradient evaluations: 148\n"
     ]
    },
    {
     "name": "stderr",
     "output_type": "stream",
     "text": [
      "/home/shivansh/miniconda3/envs/brain/lib/python3.9/site-packages/numpy/core/fromnumeric.py:3419: RuntimeWarning: Mean of empty slice.\n",
      "  return _methods._mean(a, axis=axis, dtype=dtype,\n",
      "/home/shivansh/miniconda3/envs/brain/lib/python3.9/site-packages/numpy/core/_methods.py:188: RuntimeWarning: invalid value encountered in double_scalars\n",
      "  ret = ret.dtype.type(ret / rcount)\n",
      "/home/shivansh/miniconda3/envs/brain/lib/python3.9/site-packages/numpy/core/_methods.py:261: RuntimeWarning: Degrees of freedom <= 0 for slice\n",
      "  ret = _var(a, axis=axis, dtype=dtype, out=out, ddof=ddof,\n",
      "/home/shivansh/miniconda3/envs/brain/lib/python3.9/site-packages/numpy/core/_methods.py:221: RuntimeWarning: invalid value encountered in true_divide\n",
      "  arrmean = um.true_divide(arrmean, div, out=arrmean, casting='unsafe',\n",
      "/home/shivansh/miniconda3/envs/brain/lib/python3.9/site-packages/numpy/core/_methods.py:253: RuntimeWarning: invalid value encountered in double_scalars\n",
      "  ret = ret.dtype.type(ret / rcount)\n"
     ]
    }
   ],
   "source": [
    "_, J_max = corr_analysis(0.1, fc, n_folds=0)"
   ]
  },
  {
   "cell_type": "code",
   "execution_count": 124,
   "metadata": {},
   "outputs": [],
   "source": [
    "res = Parallel(n_jobs=8)(delayed(corr_analysis)(0.1, fc, sim_timesteps=sim_timesteps, train=False, J_max=J_max) for sim_timesteps in range(50, 500, 50))\n",
    "    "
   ]
  },
  {
   "cell_type": "code",
   "execution_count": 129,
   "metadata": {},
   "outputs": [],
   "source": [
    "mean_corr = [i['mean'] for i in res]"
   ]
  },
  {
   "cell_type": "code",
   "execution_count": 131,
   "metadata": {},
   "outputs": [
    {
     "data": {
      "text/plain": [
       "[<matplotlib.lines.Line2D at 0x7f5dd1d795b0>]"
      ]
     },
     "execution_count": 131,
     "metadata": {},
     "output_type": "execute_result"
    },
    {
     "data": {
      "image/png": "[encoded data removed]",
      "text/plain": [
       "<Figure size 432x288 with 1 Axes>"
      ]
     },
     "metadata": {
      "needs_background": "light"
     },
     "output_type": "display_data"
    }
   ],
   "source": [
    "plt.plot(range(50, 500, 50), mean_corr)"
   ]
  },
  {
   "cell_type": "code",
   "execution_count": null,
   "metadata": {},
   "outputs": [],
   "source": []
  }
 ],
 "metadata": {
  "kernelspec": {
   "display_name": "Python 3.9.7 ('brain')",
   "language": "python",
   "name": "python3"
  },
  "language_info": {
   "codemirror_mode": {
    "name": "ipython",
    "version": 3
   },
   "file_extension": ".py",
   "mimetype": "text/x-python",
   "name": "python",
   "nbconvert_exporter": "python",
   "pygments_lexer": "ipython3",
   "version": "3.9.7"
  },
  "orig_nbformat": 4,
  "vscode": {
   "interpreter": {
    "hash": "5ad3f1a215440f9155109064f773e6e59d1d6c6675c677d01728458ca0d08c94"
   }
  }
 },
 "nbformat": 4,
 "nbformat_minor": 2
}
