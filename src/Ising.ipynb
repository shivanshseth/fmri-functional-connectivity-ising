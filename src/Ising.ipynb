{
 "cells": [
  {
   "cell_type": "code",
   "execution_count": 2,
   "id": "e09b58b2",
   "metadata": {},
   "outputs": [],
   "source": [
    "import numpy as np\n",
    "import matplotlib.pyplot as plt\n",
    "from numpy.random import rand"
   ]
  },
  {
   "cell_type": "code",
   "execution_count": 3,
   "id": "f381c2e3",
   "metadata": {},
   "outputs": [],
   "source": [
    "bold = np.loadtxt('../data/50003_timeseries.txt')\n",
    "bold_bin = np.zeros(bold.shape)\n",
    "bold_bin[np.where(bold>=0)] = 1\n",
    "bold_bin[np.where(bold<0)] = -1"
   ]
  },
  {
   "cell_type": "code",
   "execution_count": 4,
   "id": "26640bcf",
   "metadata": {},
   "outputs": [],
   "source": [
    "n_rois = bold_bin.shape[1]\n",
    "n_timesteps = bold_bin.shape[0]\n",
    "beta = 1\n",
    "J = np.zeros((n_rois, n_rois))"
   ]
  },
  {
   "cell_type": "code",
   "execution_count": 5,
   "id": "005dcac9",
   "metadata": {},
   "outputs": [],
   "source": [
    "fc = 1/n_timesteps * bold_bin.T @ bold_bin"
   ]
  },
  {
   "cell_type": "code",
   "execution_count": 7,
   "id": "e039b768",
   "metadata": {},
   "outputs": [],
   "source": [
    "class IsingSimulation:\n",
    "    \n",
    "    def __init__(self, n_rois, beta, coupling_mat = False, J=None):\n",
    "        self.N = n_rois\n",
    "        self.beta = beta\n",
    "        if not coupling_mat:\n",
    "            J = np.random.uniform(0, 1, size=(n_rois, n_rois))\n",
    "            J = (J + J.T)/2 # making it symmetric\n",
    "            np.fill_diagonal(J, 1)\n",
    "        self.J = J\n",
    "        self.state = 2*np.random.randint(2, size=(n_rois))-1\n",
    "        return\n",
    "\n",
    "\n",
    "    def step(self, update_state = True, state = None):\n",
    "        if update_state:\n",
    "            state = self.state[:]\n",
    "        for i in range(self.N):\n",
    "            # calculating delH\n",
    "            H_i = 0\n",
    "            H_i = self.J[i, :] @ state.T \n",
    "            H_i -= self.J[i, i] * state[i] # removing self coupling term\n",
    "            cost = 2 * H_i\n",
    "            if cost < 0:\n",
    "                state[i] *= -1\n",
    "            elif rand() < np.exp(-cost*self.beta):\n",
    "                state[i] *= -1\n",
    "        if update_state:\n",
    "            self.state = state\n",
    "        return state\n",
    "    \n",
    "    def calcEnergy(self):\n",
    "        H = 0\n",
    "        H = -self.state @ self.J @ self.state.T\n",
    "        return H/2\n",
    "    \n",
    "    def calcMag(self):\n",
    "        mag = np.sum(self.state)\n",
    "        return mag\n",
    "    \n",
    "    def getTimeseries(self, n_timesteps):\n",
    "        time_series = np.zeros((n_timesteps, self.N))\n",
    "        state = self.state[:]\n",
    "        for i in range(n_timesteps):\n",
    "            state = self.step(False, state)\n",
    "            time_series[i] = state\n",
    "        fc = 1/n_timesteps * time_series.T @ time_series \n",
    "        return time_series, fc"
   ]
  },
  {
   "cell_type": "code",
   "execution_count": 9,
   "id": "ca561be3",
   "metadata": {},
   "outputs": [],
   "source": [
    "eqSteps = 100000     #  number of MC sweeps for equilibration\n",
    "# mcSteps = 2**9       #  number of MC sweeps for calculation"
   ]
  },
  {
   "cell_type": "code",
   "execution_count": 10,
   "id": "0f2d32e8",
   "metadata": {
    "scrolled": false
   },
   "outputs": [
    {
     "name": "stdout",
     "output_type": "stream",
     "text": [
      "0\n",
      "1000\n",
      "2000\n",
      "3000\n",
      "4000\n",
      "5000\n",
      "6000\n",
      "7000\n",
      "8000\n"
     ]
    },
    {
     "ename": "KeyboardInterrupt",
     "evalue": "",
     "output_type": "error",
     "traceback": [
      "\u001b[0;31m---------------------------------------------------------------------------\u001b[0m",
      "\u001b[0;31mKeyboardInterrupt\u001b[0m                         Traceback (most recent call last)",
      "\u001b[0;32m/tmp/ipykernel_330/1686085590.py\u001b[0m in \u001b[0;36m<module>\u001b[0;34m\u001b[0m\n\u001b[1;32m     13\u001b[0m         \u001b[0mc\u001b[0m \u001b[0;34m=\u001b[0m \u001b[0mnp\u001b[0m\u001b[0;34m.\u001b[0m\u001b[0mcorrcoef\u001b[0m\u001b[0;34m(\u001b[0m\u001b[0mnp\u001b[0m\u001b[0;34m.\u001b[0m\u001b[0mtriu\u001b[0m\u001b[0;34m(\u001b[0m\u001b[0mfc\u001b[0m\u001b[0;34m)\u001b[0m\u001b[0;34m.\u001b[0m\u001b[0mflatten\u001b[0m\u001b[0;34m(\u001b[0m\u001b[0;34m)\u001b[0m\u001b[0;34m,\u001b[0m \u001b[0mnp\u001b[0m\u001b[0;34m.\u001b[0m\u001b[0mtriu\u001b[0m\u001b[0;34m(\u001b[0m\u001b[0msim_fc\u001b[0m\u001b[0;34m)\u001b[0m\u001b[0;34m.\u001b[0m\u001b[0mflatten\u001b[0m\u001b[0;34m(\u001b[0m\u001b[0;34m)\u001b[0m\u001b[0;34m)\u001b[0m\u001b[0;34m[\u001b[0m\u001b[0;36m0\u001b[0m\u001b[0;34m,\u001b[0m \u001b[0;36m1\u001b[0m\u001b[0;34m]\u001b[0m\u001b[0;34m\u001b[0m\u001b[0;34m\u001b[0m\u001b[0m\n\u001b[1;32m     14\u001b[0m         \u001b[0mcorr\u001b[0m\u001b[0;34m.\u001b[0m\u001b[0mappend\u001b[0m\u001b[0;34m(\u001b[0m\u001b[0mc\u001b[0m\u001b[0;34m)\u001b[0m\u001b[0;34m\u001b[0m\u001b[0;34m\u001b[0m\u001b[0m\n\u001b[0;32m---> 15\u001b[0;31m     \u001b[0msim\u001b[0m\u001b[0;34m.\u001b[0m\u001b[0mstep\u001b[0m\u001b[0;34m(\u001b[0m\u001b[0;34m)\u001b[0m           \u001b[0;31m# Monte Carlo moves\u001b[0m\u001b[0;34m\u001b[0m\u001b[0;34m\u001b[0m\u001b[0m\n\u001b[0m\u001b[1;32m     16\u001b[0m     \u001b[0mE\u001b[0m\u001b[0;34m.\u001b[0m\u001b[0mappend\u001b[0m\u001b[0;34m(\u001b[0m\u001b[0msim\u001b[0m\u001b[0;34m.\u001b[0m\u001b[0mcalcEnergy\u001b[0m\u001b[0;34m(\u001b[0m\u001b[0;34m)\u001b[0m\u001b[0;34m)\u001b[0m\u001b[0;34m\u001b[0m\u001b[0;34m\u001b[0m\u001b[0m\n\u001b[1;32m     17\u001b[0m     \u001b[0mM\u001b[0m\u001b[0;34m.\u001b[0m\u001b[0mappend\u001b[0m\u001b[0;34m(\u001b[0m\u001b[0msim\u001b[0m\u001b[0;34m.\u001b[0m\u001b[0mcalcMag\u001b[0m\u001b[0;34m(\u001b[0m\u001b[0;34m)\u001b[0m\u001b[0;34m)\u001b[0m\u001b[0;34m\u001b[0m\u001b[0;34m\u001b[0m\u001b[0m\n",
      "\u001b[0;32m/tmp/ipykernel_330/2004782010.py\u001b[0m in \u001b[0;36mstep\u001b[0;34m(self, update_state, state)\u001b[0m\n\u001b[1;32m     23\u001b[0m             \u001b[0mcost\u001b[0m \u001b[0;34m=\u001b[0m \u001b[0;36m2\u001b[0m \u001b[0;34m*\u001b[0m \u001b[0mH_i\u001b[0m\u001b[0;34m\u001b[0m\u001b[0;34m\u001b[0m\u001b[0m\n\u001b[1;32m     24\u001b[0m             \u001b[0;32mif\u001b[0m \u001b[0mcost\u001b[0m \u001b[0;34m<\u001b[0m \u001b[0;36m0\u001b[0m\u001b[0;34m:\u001b[0m\u001b[0;34m\u001b[0m\u001b[0;34m\u001b[0m\u001b[0m\n\u001b[0;32m---> 25\u001b[0;31m                 \u001b[0mstate\u001b[0m\u001b[0;34m[\u001b[0m\u001b[0mi\u001b[0m\u001b[0;34m]\u001b[0m \u001b[0;34m*=\u001b[0m \u001b[0;34m-\u001b[0m\u001b[0;36m1\u001b[0m\u001b[0;34m\u001b[0m\u001b[0;34m\u001b[0m\u001b[0m\n\u001b[0m\u001b[1;32m     26\u001b[0m             \u001b[0;32melif\u001b[0m \u001b[0mrand\u001b[0m\u001b[0;34m(\u001b[0m\u001b[0;34m)\u001b[0m \u001b[0;34m<\u001b[0m \u001b[0mnp\u001b[0m\u001b[0;34m.\u001b[0m\u001b[0mexp\u001b[0m\u001b[0;34m(\u001b[0m\u001b[0;34m-\u001b[0m\u001b[0mcost\u001b[0m\u001b[0;34m*\u001b[0m\u001b[0mself\u001b[0m\u001b[0;34m.\u001b[0m\u001b[0mbeta\u001b[0m\u001b[0;34m)\u001b[0m\u001b[0;34m:\u001b[0m\u001b[0;34m\u001b[0m\u001b[0;34m\u001b[0m\u001b[0m\n\u001b[1;32m     27\u001b[0m                 \u001b[0mstate\u001b[0m\u001b[0;34m[\u001b[0m\u001b[0mi\u001b[0m\u001b[0;34m]\u001b[0m \u001b[0;34m*=\u001b[0m \u001b[0;34m-\u001b[0m\u001b[0;36m1\u001b[0m\u001b[0;34m\u001b[0m\u001b[0;34m\u001b[0m\u001b[0m\n",
      "\u001b[0;31mKeyboardInterrupt\u001b[0m: "
     ]
    }
   ],
   "source": [
    "E = []\n",
    "# for T in np.linspace(1.53, 3.28, 2):\n",
    "beta = 1\n",
    "sim = IsingSimulation(n_rois, beta, coupling_mat = True, J=fc)\n",
    "n_timesteps = 116\n",
    "E1 = M1 = E2 = M2 = 0\n",
    "M = []\n",
    "corr = []\n",
    "for i in range(eqSteps):         # equilibrate\n",
    "    if i%1000 == 0:\n",
    "        print(i)\n",
    "        time_series, sim_fc = sim.getTimeseries(n_timesteps)\n",
    "        c = np.corrcoef(np.triu(fc).flatten(), np.triu(sim_fc).flatten())[0, 1]\n",
    "        corr.append(c)\n",
    "    sim.step()           # Monte Carlo moves\n",
    "    E.append(sim.calcEnergy())\n",
    "    M.append(sim.calcMag())\n",
    "plt.plot(corr)"
   ]
  },
  {
   "cell_type": "code",
   "execution_count": 100,
   "id": "c4c8840c",
   "metadata": {},
   "outputs": [
    {
     "data": {
      "text/plain": [
       "[<matplotlib.lines.Line2D at 0x7efc7f693b50>]"
      ]
     },
     "execution_count": 100,
     "metadata": {},
     "output_type": "execute_result"
    },
    {
     "data": {
      "image/png": "[encoded data removed]",
      "text/plain": [
       "<Figure size 432x288 with 1 Axes>"
      ]
     },
     "metadata": {
      "needs_background": "light"
     },
     "output_type": "display_data"
    }
   ],
   "source": [
    "plt.plot(corr)"
   ]
  },
  {
   "cell_type": "code",
   "execution_count": 90,
   "id": "12776d89",
   "metadata": {},
   "outputs": [
    {
     "data": {
      "text/plain": [
       "((13456,), (13456,))"
      ]
     },
     "execution_count": 90,
     "metadata": {},
     "output_type": "execute_result"
    }
   ],
   "source": [
    "np.triu(fc).flatten().shape, np.triu(sim_fc).flatten().shape"
   ]
  },
  {
   "cell_type": "code",
   "execution_count": 88,
   "id": "0f590f74",
   "metadata": {},
   "outputs": [
    {
     "data": {
      "text/plain": [
       "array([1.96, 0.36, 0.28, ..., 0.  , 0.  , 1.96])"
      ]
     },
     "execution_count": 88,
     "metadata": {},
     "output_type": "execute_result"
    }
   ],
   "source": []
  },
  {
   "cell_type": "code",
   "execution_count": null,
   "id": "6dd417a4",
   "metadata": {},
   "outputs": [],
   "source": []
  }
 ],
 "metadata": {
  "kernelspec": {
   "display_name": "Python 3 (ipykernel)",
   "language": "python",
   "name": "python3"
  },
  "language_info": {
   "codemirror_mode": {
    "name": "ipython",
    "version": 3
   },
   "file_extension": ".py",
   "mimetype": "text/x-python",
   "name": "python",
   "nbconvert_exporter": "python",
   "pygments_lexer": "ipython3",
   "version": "3.9.7"
  }
 },
 "nbformat": 4,
 "nbformat_minor": 5
}
